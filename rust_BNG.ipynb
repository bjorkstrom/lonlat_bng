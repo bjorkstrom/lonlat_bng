{
 "cells": [
  {
   "cell_type": "markdown",
   "metadata": {},
   "source": [
    "# The Helmert transform\n",
    "$\n",
    "\\begin{bmatrix}\n",
    "    x\\\\\n",
    "    y\\\\\n",
    "    z\\\\\n",
    "\\end{bmatrix}^B\n",
    "=\n",
    "\\begin{bmatrix}\n",
    "    t_X\\\\\n",
    "    t_Y\\\\\n",
    "    t_Z\\\\\n",
    "\\end{bmatrix}\n",
    "+\n",
    "\\begin{bmatrix}\n",
    "    1+s  & -r_Z & r_Y\\\\\n",
    "    r_Z  & 1+s  & -r_X\\\\\n",
    "    -r_Y & r_X  & 1+s\\\\\n",
    "\\end{bmatrix}\n",
    "\\cdot\n",
    "\\begin{bmatrix}\n",
    "    x\\\\\n",
    "    y\\\\\n",
    "    z\\\\\n",
    "\\end{bmatrix}^A\n",
    "$"
   ]
  },
  {
   "cell_type": "markdown",
   "metadata": {},
   "source": [
    "### Using an external Rust library to speed up lon, lat to [BNG](https://en.wikipedia.org/wiki/Ordnance_Survey_National_Grid) conversion"
   ]
  },
  {
   "cell_type": "code",
   "execution_count": 2,
   "metadata": {
    "collapsed": false
   },
   "outputs": [
    {
     "name": "stderr",
     "output_type": "stream",
     "text": [
      "/Users/sth/dev/lonlat_bng/venv/lib/python2.7/site-packages/matplotlib/__init__.py:872: UserWarning: axes.color_cycle is deprecated and replaced with axes.prop_cycle; please use the latter.\n",
      "  warnings.warn(self.msg_depr % (key, alt_key))\n",
      "/Users/sth/dev/lonlat_bng/venv/lib/python2.7/site-packages/matplotlib/font_manager.py:273: UserWarning: Matplotlib is building the font cache using fc-list. This may take a moment.\n",
      "  warnings.warn('Matplotlib is building the font cache using fc-list. This may take a moment.')\n"
     ]
    }
   ],
   "source": [
    "import numpy as np\n",
    "import pandas as pd\n",
    "import matplotlib as mpl\n",
    "import matplotlib.pyplot as plt\n",
    "import math\n",
    "from ctypes import cdll, c_float, c_double, Structure, ARRAY, POINTER, c_int32, c_uint32, c_size_t, c_void_p, cast\n",
    "from sys import platform\n",
    "from bng import bng\n",
    "import pyproj\n",
    "import ipdb\n",
    "from array import array\n",
    "%matplotlib inline"
   ]
  },
  {
   "cell_type": "code",
   "execution_count": 2,
   "metadata": {
    "collapsed": false
   },
   "outputs": [],
   "source": [
    "def helmert(x, y, z=0):\n",
    "    \"\"\" Example implementation of Helmert transform \"\"\"\n",
    "    tX = -446.448  \n",
    "    tY = 125.157  \n",
    "    tZ = -542.060  \n",
    "\n",
    "    rX = -0.1502  \n",
    "    rY = -0.2470  \n",
    "    rZ = -0.8421  \n",
    "\n",
    "    s = 20.4894 * math.pow(10, -6)\n",
    "    # For multiple x and y\n",
    "    # A_vector = np.matrix([[x, y, z], [x, y, z]]).T\n",
    "    A_vector = np.vstack(np.array([x, y, z]))\n",
    "    t_matrix = np.vstack(np.array([tX, tY, tZ]))\n",
    "    conversion = np.matrix([[1 + s, -rZ, rY], [rZ, 1 + s, -rX], [-rY, rX, 1 + s]])\n",
    "    return t_matrix + (conversion * A_vector)"
   ]
  },
  {
   "cell_type": "code",
   "execution_count": 3,
   "metadata": {
    "collapsed": false
   },
   "outputs": [
    {
     "data": {
      "text/plain": [
       "matrix([[-402.49686677],\n",
       "        [ 181.4468293 ],\n",
       "        [-550.75780346]])"
      ]
     },
     "execution_count": 3,
     "metadata": {},
     "output_type": "execute_result"
    }
   ],
   "source": [
    "helmert(-2.018304, 54.589097)"
   ]
  },
  {
   "cell_type": "markdown",
   "metadata": {},
   "source": [
    "### Setting up the Rust library. See [here](https://github.com/alexcrichton/rust-ffi-examples/tree/master/python-to-rust) for more"
   ]
  },
  {
   "cell_type": "markdown",
   "metadata": {},
   "source": [
    "Ensure you've built your Rust library using `cargo build --release`, or the next step will fail.\n",
    "\n",
    "The boilerplate below can easily be hidden in a wrapper function – it's just here to demonstrate how to call into a shared Rust lib using FFI."
   ]
  },
  {
   "cell_type": "code",
   "execution_count": 4,
   "metadata": {
    "collapsed": true
   },
   "outputs": [],
   "source": [
    "if platform == \"darwin\":\n",
    "    ext = \"dylib\"\n",
    "else:\n",
    "    ext = \"so\"\n",
    "    \n",
    "lib = cdll.LoadLibrary('target/release/liblonlat_bng.' + ext)"
   ]
  },
  {
   "cell_type": "markdown",
   "metadata": {},
   "source": [
    "Define the `ctypes` structures for lon, lat --> BNG conversion"
   ]
  },
  {
   "cell_type": "code",
   "execution_count": 5,
   "metadata": {
    "collapsed": false
   },
   "outputs": [],
   "source": [
    "class _FFIArray(Structure):\n",
    "    \"\"\" Convert sequence of floats to a C-compatible void array \"\"\"\n",
    "    _fields_ = [(\"data\", c_void_p),\n",
    "                (\"len\", c_size_t)]\n",
    "\n",
    "    @classmethod\n",
    "    def from_param(cls, seq):\n",
    "        \"\"\"  Allow implicit conversions from a sequence of 64-bit floats.\"\"\"\n",
    "        return seq if isinstance(seq, cls) else cls(seq)\n",
    "\n",
    "    def __init__(self, seq, data_type = c_double):\n",
    "        \"\"\"\n",
    "        Convert sequence of values into array, then ctypes Structure\n",
    "\n",
    "        Rather than checking types (bad), we just try to blam seq\n",
    "        into a ctypes object using from_buffer. If that doesn't work,\n",
    "        we try successively more conservative approaches:\n",
    "        numpy array -> array.array -> read-only buffer -> CPython iterable\n",
    "        \"\"\"\n",
    "        if isinstance(seq, float):\n",
    "            seq = array('d', [seq])\n",
    "        try:\n",
    "            len(seq)\n",
    "        except TypeError:\n",
    "             # we've got an iterator or a generator, so consume it\n",
    "            seq = array('d', seq)\n",
    "        array_type = data_type * len(seq)\n",
    "        try:\n",
    "            raw_seq = array_type.from_buffer(seq.astype(np.float64))\n",
    "        except (TypeError, AttributeError):\n",
    "            try:\n",
    "                raw_seq = array_type.from_buffer_copy(seq.astype(np.float64))\n",
    "            except (TypeError, AttributeError):\n",
    "                # it's a list or a tuple\n",
    "                raw_seq = array_type.from_buffer(array('d', seq))\n",
    "        self.data = cast(raw_seq, c_void_p)\n",
    "        self.len = len(seq)\n",
    "        \n",
    "\n",
    "class _Result_Tuple(Structure):\n",
    "    \"\"\" Container for returned FFI data \"\"\"\n",
    "    _fields_ = [(\"e\", _FFIArray),\n",
    "                (\"n\", _FFIArray)]\n",
    "\n",
    "\n",
    "def _void_array_to_list(restuple, _func, _args):\n",
    "    \"\"\" Convert the FFI result to Python data structures \"\"\"\n",
    "    eastings = POINTER(c_double * restuple.e.len).from_buffer_copy(restuple.e)[0]\n",
    "    northings = POINTER(c_double * restuple.n.len).from_buffer_copy(restuple.n)[0]\n",
    "    res_list = [list(eastings), list(northings)]\n",
    "    drop_array(restuple.e, restuple.n)\n",
    "    return res_list"
   ]
  },
  {
   "cell_type": "markdown",
   "metadata": {},
   "source": [
    "Define `ctypes` input and return parameters"
   ]
  },
  {
   "cell_type": "code",
   "execution_count": 6,
   "metadata": {
    "collapsed": false
   },
   "outputs": [],
   "source": [
    "# Multi-threaded FFI functions\n",
    "convert_bng = lib.convert_to_bng_threaded\n",
    "convert_bng.argtypes = (_FFIArray, _FFIArray)\n",
    "convert_bng.restype = _Result_Tuple\n",
    "convert_bng.errcheck = _void_array_to_list\n",
    "convert_bng.__doc__ = \"\"\"\n",
    "    Multi-threaded lon, lat --> BNG conversion\n",
    "    Returns a list of two lists containing Easting and Northing floats,\n",
    "    respectively\n",
    "    Uses the Helmert transform\n",
    "    \"\"\"\n",
    "\n",
    "convert_lonlat = lib.convert_to_lonlat_threaded\n",
    "convert_lonlat.argtypes = (_FFIArray, _FFIArray)\n",
    "convert_lonlat.restype = _Result_Tuple\n",
    "convert_lonlat.errcheck = _void_array_to_list\n",
    "convert_lonlat.__doc__ =  \"\"\"\n",
    "    Multi-threaded BNG --> lon, lat conversion\n",
    "    Returns a list of two lists containing Longitude and Latitude floats,\n",
    "    respectively\n",
    "    Uses the Helmert transform\n",
    "    \"\"\"\n",
    "\n",
    "convert_to_osgb36 = lib.convert_to_osgb36_threaded\n",
    "convert_to_osgb36.argtypes = (_FFIArray, _FFIArray)\n",
    "convert_to_osgb36.restype = _Result_Tuple\n",
    "convert_to_osgb36.errcheck = _void_array_to_list\n",
    "convert_to_osgb36.__doc__ = \"\"\"\n",
    "    Multi-threaded lon, lat --> OSGB36 conversion, using OSTN02 data\n",
    "    Returns a list of two lists containing Easting and Northing floats,\n",
    "    respectively\n",
    "    \"\"\"\n",
    "\n",
    "convert_osgb36_to_lonlat = lib.convert_osgb36_to_ll_threaded\n",
    "convert_osgb36_to_lonlat.argtypes = (_FFIArray, _FFIArray)\n",
    "convert_osgb36_to_lonlat.restype = _Result_Tuple\n",
    "convert_osgb36_to_lonlat.errcheck = _void_array_to_list\n",
    "convert_osgb36_to_lonlat.__doc__ = \"\"\"\n",
    "    Multi-threaded OSGB36 --> Lon, Lat conversion, using OSTN02 data\n",
    "    Returns a list of two lists containing Easting and Northing floats,\n",
    "    respectively\n",
    "    \"\"\"\n",
    "\n",
    "convert_etrs89_to_lonlat = lib.convert_etrs89_to_ll_threaded\n",
    "convert_etrs89_to_lonlat.argtypes = (_FFIArray, _FFIArray)\n",
    "convert_etrs89_to_lonlat.restype = _Result_Tuple\n",
    "convert_etrs89_to_lonlat.errcheck = _void_array_to_list\n",
    "convert_etrs89_to_lonlat.__doc__ = \"\"\"\n",
    "    Multi-threaded ETRS89 Eastings and Northings --> OSGB36 conversion, using OSTN02 data\n",
    "    Returns a list of two lists containing Easting and Northing floats,\n",
    "    respectively\n",
    "    \"\"\"\n",
    "\n",
    "convert_etrs89_to_osgb36 = lib.convert_etrs89_to_osgb36_threaded\n",
    "convert_etrs89_to_osgb36.argtypes = (_FFIArray, _FFIArray)\n",
    "convert_etrs89_to_osgb36.restype = _Result_Tuple\n",
    "convert_etrs89_to_osgb36.errcheck = _void_array_to_list\n",
    "convert_etrs89_to_osgb36.__doc__ = \"\"\"\n",
    "    Multi-threaded OSGB36 Eastings and Northings --> ETRS89 Eastings and Northings conversion,\n",
    "    using OSTN02 data\n",
    "    Returns a list of two lists containing Easting and Northing floats,\n",
    "    respectively\n",
    "    \"\"\"\n",
    "\n",
    "convert_osgb36_to_etrs89 = lib.convert_osgb36_to_etrs89_threaded\n",
    "convert_osgb36_to_etrs89.argtypes = (_FFIArray, _FFIArray)\n",
    "convert_osgb36_to_etrs89.restype = _Result_Tuple\n",
    "convert_osgb36_to_etrs89.errcheck = _void_array_to_list\n",
    "convert_osgb36_to_etrs89.__doc__ = \"\"\"\n",
    "    Multi-threaded ETRS89 Eastings and Northings --> Lon, Lat conversion,\n",
    "    Returns a list of two lists containing Longitude and Latitude floats,\n",
    "    respectively\n",
    "    \"\"\"\n",
    "\n",
    "convert_epsg3857_to_wgs84 = lib.convert_epsg3857_to_wgs84_threaded\n",
    "convert_epsg3857_to_wgs84.argtypes = (_FFIArray, _FFIArray)\n",
    "convert_epsg3857_to_wgs84.restype = _Result_Tuple\n",
    "convert_epsg3857_to_wgs84.errcheck = _void_array_to_list\n",
    "convert_epsg3857_to_wgs84.__doc__ = \"\"\"\n",
    "    Convert Google Web Mercator (EPSG3857) coordinates to WGS84\n",
    "    Latitude and Longitude\n",
    "    Returns a list of two lists containing latitudes and longitudes,\n",
    "    respectively\n",
    "    \"\"\"\n",
    "\n",
    "# Free FFI-allocated memory\n",
    "drop_array = lib.drop_float_array\n",
    "drop_array.argtypes = (_FFIArray, _FFIArray)\n",
    "drop_array.restype = None"
   ]
  },
  {
   "cell_type": "markdown",
   "metadata": {},
   "source": [
    "## Simple test of average conversion speed, Python version"
   ]
  },
  {
   "cell_type": "markdown",
   "metadata": {},
   "source": [
    "## Test: 1MM random points within the UK"
   ]
  },
  {
   "cell_type": "code",
   "execution_count": 10,
   "metadata": {
    "collapsed": false
   },
   "outputs": [],
   "source": [
    "# UK bounding box\n",
    "N = 55.811741\n",
    "E = 1.768960\n",
    "S = 49.871159\n",
    "W = -6.379880\n",
    "\n",
    "bng = pyproj.Proj(init='epsg:27700')\n",
    "wgs84 = pyproj.Proj(init='epsg:4326')\n",
    "\n",
    "num_coords = 1000000\n",
    "lon_ls = list(np.random.uniform(W, E, [num_coords]))\n",
    "lat_ls = list(np.random.uniform(S, N, [num_coords]))"
   ]
  },
  {
   "cell_type": "markdown",
   "metadata": {},
   "source": [
    "### Pure Python"
   ]
  },
  {
   "cell_type": "code",
   "execution_count": null,
   "metadata": {
    "collapsed": false
   },
   "outputs": [],
   "source": [
    "%%timeit -r50\n",
    "[bng(lat, lon) for lat, lon in zip(lat_ls, lon_ls)]"
   ]
  },
  {
   "cell_type": "markdown",
   "metadata": {},
   "source": [
    "### Pyproj"
   ]
  },
  {
   "cell_type": "code",
   "execution_count": 8,
   "metadata": {
    "collapsed": false
   },
   "outputs": [
    {
     "name": "stdout",
     "output_type": "stream",
     "text": [
      "1 loop, best of 50: 400 ms per loop\n"
     ]
    }
   ],
   "source": [
    "%%timeit -r50\n",
    "pyproj.transform(wgs84, bng, lon_ls, lat_ls)"
   ]
  },
  {
   "cell_type": "markdown",
   "metadata": {},
   "source": [
    "### Multithreaded Rust"
   ]
  },
  {
   "cell_type": "code",
   "execution_count": 9,
   "metadata": {
    "collapsed": false
   },
   "outputs": [
    {
     "name": "stdout",
     "output_type": "stream",
     "text": [
      "1 loop, best of 50: 665 ms per loop\n"
     ]
    }
   ],
   "source": [
    "%%timeit -r50\n",
    "convert_bng(lon_ls, lat_ls)"
   ]
  },
  {
   "cell_type": "markdown",
   "metadata": {
    "collapsed": true
   },
   "source": [
    "## Pyproj is now only 1.15x (~15%) faster than Multithreaded Rust, which is 9x faster than pure Python"
   ]
  },
  {
   "cell_type": "markdown",
   "metadata": {},
   "source": [
    "# Benchmark using cProfile"
   ]
  },
  {
   "cell_type": "code",
   "execution_count": 1,
   "metadata": {
    "collapsed": false
   },
   "outputs": [],
   "source": [
    "import cProfile\n",
    "import pstats\n",
    "import profile"
   ]
  },
  {
   "cell_type": "code",
   "execution_count": 4,
   "metadata": {
    "collapsed": false
   },
   "outputs": [],
   "source": [
    "# calibrate\n",
    "pr = profile.Profile()\n",
    "calibration = np.mean([pr.calibrate(100000) for x in xrange(5)])\n",
    "# add the bias\n",
    "profile.Profile.bias = calibration"
   ]
  },
  {
   "cell_type": "code",
   "execution_count": 12,
   "metadata": {
    "collapsed": false
   },
   "outputs": [
    {
     "name": "stdout",
     "output_type": "stream",
     "text": [
      "Wed Feb 24 17:23:40 2016    ffi_benchmarks/output_stats_rust\n",
      "\n",
      "         1388 function calls in 33.634 seconds\n",
      "\n",
      "   Ordered by: cumulative time\n",
      "   List reduced from 30 to 5 due to restriction <5>\n",
      "\n",
      "   ncalls  tottime  percall  cumtime  percall filename:lineno(function)\n",
      "        1   15.040   15.040   33.634   33.634 ffi_benchmarks/cprofile_rust.py:1(<module>)\n",
      "       50   13.261    0.265   13.262    0.265 ffi_benchmarks/cprofile_rust.py:59(_void_array_to_list)\n",
      "      200    0.001    0.000    5.304    0.027 ffi_benchmarks/cprofile_rust.py:19(from_param)\n",
      "      100    5.300    0.053    5.302    0.053 ffi_benchmarks/cprofile_rust.py:24(__init__)\n",
      "        2    0.028    0.014    0.028    0.014 {method 'uniform' of 'mtrand.RandomState' objects}\n",
      "\n",
      "\n"
     ]
    },
    {
     "data": {
      "text/plain": [
       "<pstats.Stats instance at 0x11984aef0>"
      ]
     },
     "execution_count": 12,
     "metadata": {},
     "output_type": "execute_result"
    }
   ],
   "source": [
    "cProfile.run(open('benches/cprofile_rust.py', 'rb'), 'benches/output_stats_rust')\n",
    "p = pstats.Stats('benches/output_stats_rust')\n",
    "p.sort_stats('cumulative').print_stats(5)"
   ]
  },
  {
   "cell_type": "code",
   "execution_count": 9,
   "metadata": {
    "collapsed": false
   },
   "outputs": [
    {
     "name": "stdout",
     "output_type": "stream",
     "text": [
      "Wed Feb 24 16:09:30 2016    ffi_benchmarks/output_stats_pyproj\n",
      "\n",
      "         822 function calls in 20.225 seconds\n",
      "\n",
      "   Ordered by: cumulative time\n",
      "   List reduced from 20 to 10 due to restriction <10>\n",
      "\n",
      "   ncalls  tottime  percall  cumtime  percall filename:lineno(function)\n",
      "        1    0.725    0.725   20.225   20.225 ffi_benchmarks/cprofile_pyproj.py:1(<module>)\n",
      "       50    0.001    0.000   19.473    0.389 /Users/sth/dev/lonlat_bng/venv/lib/python2.7/site-packages/pyproj/__init__.py:418(transform)\n",
      "       50   13.097    0.262   13.097    0.262 {_proj._transform}\n",
      "      100    5.339    0.053    5.339    0.053 /Users/sth/dev/lonlat_bng/venv/lib/python2.7/site-packages/pyproj/__init__.py:521(_copytobuffer)\n",
      "      100    0.000    0.000    1.035    0.010 /Users/sth/dev/lonlat_bng/venv/lib/python2.7/site-packages/pyproj/__init__.py:577(_convertback)\n",
      "      100    1.035    0.010    1.035    0.010 {method 'tolist' of 'array.array' objects}\n",
      "        2    0.027    0.014    0.027    0.014 {method 'uniform' of 'mtrand.RandomState' objects}\n",
      "      200    0.001    0.000    0.001    0.000 {hasattr}\n",
      "      100    0.000    0.000    0.000    0.000 /Users/sth/dev/lonlat_bng/venv/lib/python2.7/site-packages/pyproj/__init__.py:410(is_latlong)\n",
      "      100    0.000    0.000    0.000    0.000 {isinstance}\n",
      "\n",
      "\n"
     ]
    },
    {
     "data": {
      "text/plain": [
       "<pstats.Stats instance at 0x11785f440>"
      ]
     },
     "execution_count": 9,
     "metadata": {},
     "output_type": "execute_result"
    }
   ],
   "source": [
    "cProfile.run(open('benches/cprofile_pyproj.py', 'rb'), 'benches/output_stats_pyproj')\n",
    "p = pstats.Stats('benches/output_stats_pyproj')\n",
    "p.sort_stats('cumulative').print_stats(10)"
   ]
  },
  {
   "cell_type": "code",
   "execution_count": 18,
   "metadata": {
    "collapsed": false
   },
   "outputs": [
    {
     "data": {
      "text/html": [
       "<div>\n",
       "<table border=\"1\" class=\"dataframe\">\n",
       "  <thead>\n",
       "    <tr style=\"text-align: right;\">\n",
       "      <th></th>\n",
       "      <th>crossbeam</th>\n",
       "      <th>crossbeam_error</th>\n",
       "      <th>threads</th>\n",
       "      <th>rayon</th>\n",
       "      <th>rayon_error</th>\n",
       "      <th>weight</th>\n",
       "      <th>num_points</th>\n",
       "      <th>cores</th>\n",
       "    </tr>\n",
       "  </thead>\n",
       "  <tbody>\n",
       "    <tr>\n",
       "      <th>0</th>\n",
       "      <td>15905999</td>\n",
       "      <td>6784608</td>\n",
       "      <td>1</td>\n",
       "      <td>7948001</td>\n",
       "      <td>4077969</td>\n",
       "      <td>1</td>\n",
       "      <td>10000</td>\n",
       "      <td>2</td>\n",
       "    </tr>\n",
       "    <tr>\n",
       "      <th>1</th>\n",
       "      <td>7892131</td>\n",
       "      <td>2346836</td>\n",
       "      <td>2</td>\n",
       "      <td>7571674</td>\n",
       "      <td>2966364</td>\n",
       "      <td>2</td>\n",
       "      <td>10000</td>\n",
       "      <td>2</td>\n",
       "    </tr>\n",
       "    <tr>\n",
       "      <th>2</th>\n",
       "      <td>7117649</td>\n",
       "      <td>2463749</td>\n",
       "      <td>4</td>\n",
       "      <td>7918174</td>\n",
       "      <td>3384906</td>\n",
       "      <td>4</td>\n",
       "      <td>10000</td>\n",
       "      <td>2</td>\n",
       "    </tr>\n",
       "    <tr>\n",
       "      <th>3</th>\n",
       "      <td>6823918</td>\n",
       "      <td>2664979</td>\n",
       "      <td>8</td>\n",
       "      <td>6894652</td>\n",
       "      <td>2833478</td>\n",
       "      <td>100</td>\n",
       "      <td>10000</td>\n",
       "      <td>2</td>\n",
       "    </tr>\n",
       "    <tr>\n",
       "      <th>4</th>\n",
       "      <td>7210157</td>\n",
       "      <td>2258401</td>\n",
       "      <td>16</td>\n",
       "      <td>6574078</td>\n",
       "      <td>2631948</td>\n",
       "      <td>200</td>\n",
       "      <td>10000</td>\n",
       "      <td>2</td>\n",
       "    </tr>\n",
       "    <tr>\n",
       "      <th>5</th>\n",
       "      <td>7943605</td>\n",
       "      <td>1935981</td>\n",
       "      <td>32</td>\n",
       "      <td>6964211</td>\n",
       "      <td>2411316</td>\n",
       "      <td>300</td>\n",
       "      <td>10000</td>\n",
       "      <td>2</td>\n",
       "    </tr>\n",
       "  </tbody>\n",
       "</table>\n",
       "</div>"
      ],
      "text/plain": [
       "   crossbeam  crossbeam_error  threads    rayon  rayon_error  weight  \\\n",
       "0   15905999          6784608        1  7948001      4077969       1   \n",
       "1    7892131          2346836        2  7571674      2966364       2   \n",
       "2    7117649          2463749        4  7918174      3384906       4   \n",
       "3    6823918          2664979        8  6894652      2833478     100   \n",
       "4    7210157          2258401       16  6574078      2631948     200   \n",
       "5    7943605          1935981       32  6964211      2411316     300   \n",
       "\n",
       "   num_points  cores  \n",
       "0       10000      2  \n",
       "1       10000      2  \n",
       "2       10000      2  \n",
       "3       10000      2  \n",
       "4       10000      2  \n",
       "5       10000      2  "
      ]
     },
     "execution_count": 18,
     "metadata": {},
     "output_type": "execute_result"
    }
   ],
   "source": [
    "df = pd.read_excel(\"/Users/sth/dropbox/threads.xlsx\")\n",
    "df.threads = df.threads.astype('float64')\n",
    "df.head(10)"
   ]
  },
  {
   "cell_type": "markdown",
   "metadata": {},
   "source": [
    "# Comparing and Optimising Crossbeam and Rayon"
   ]
  },
  {
   "cell_type": "code",
   "execution_count": 5,
   "metadata": {
    "collapsed": true
   },
   "outputs": [],
   "source": [
    "# make graph text look good\n",
    "from matplotlib import rc\n",
    "rc('font', **{'family':'sans-serif',\n",
    "    'sans-serif':['Helvetica'],\n",
    "    'monospace': ['Inconsolata'],\n",
    "    'serif': ['Helvetica']})\n",
    "rc('text', **{'usetex': True})\n",
    "rc('text', **{'latex.preamble': '\\usepackage{sfmath}'})"
   ]
  },
  {
   "cell_type": "code",
   "execution_count": 17,
   "metadata": {
    "collapsed": false
   },
   "outputs": [
    {
     "data": {
      "text/plain": [
       "<matplotlib.figure.Figure at 0x108067050>"
      ]
     },
     "metadata": {},
     "output_type": "display_data"
    },
    {
     "data": {
      "image/png": "[encoded data removed]",
      "text/plain": [
       "<matplotlib.figure.Figure at 0x10907f050>"
      ]
     },
     "metadata": {},
     "output_type": "display_data"
    }
   ],
   "source": [
    "plt.clf()\n",
    "fig = plt.figure(figsize=(10, 8))\n",
    "\n",
    "ax1 = fig.add_subplot(121, axisbg='none')\n",
    "threads = plt.scatter(df.threads, df.crossbeam,\n",
    "    color='#CC00CC',\n",
    "    edgecolor='#333333',\n",
    "    marker='o',\n",
    "    lw=1,\n",
    "    s=80,\n",
    "    alpha=1.0,\n",
    "    zorder=2,\n",
    ")\n",
    "ax1.set_ylim(0, 24000000)\n",
    "plt.errorbar(df.threads, df.crossbeam, yerr=df.crossbeam_error,\n",
    "    linestyle=\"None\",\n",
    "    lw=2.,\n",
    "    alpha=0.75,\n",
    "    zorder=1\n",
    "        \n",
    ")\n",
    "plt.ylabel(\"Time (ns)\")\n",
    "plt.xlabel(\"Num. threads\")\n",
    "plt.axhline(df.crossbeam.min(), color='red')\n",
    "ax1.spines['top'].set_visible(False)\n",
    "ax1.spines['right'].set_visible(False)\n",
    "plt.title(\"Crossbeam, 10k Points, 2 Cores\")\n",
    "plt.tight_layout()\n",
    "\n",
    "# Rayon\n",
    "ax2 = fig.add_subplot(122, axisbg='none')\n",
    "rayon = plt.scatter(df.weight, df.rayon,\n",
    "    color='#006600',\n",
    "    edgecolor='#000000',\n",
    "    marker='o',\n",
    "    lw=1,\n",
    "    s=60,\n",
    "    alpha=1.0,\n",
    "    zorder=2,\n",
    ")\n",
    "ax2.set_ylim(0, 24000000)\n",
    "ax2.set_yticklabels([])\n",
    "plt.xlabel(\"Weight\")\n",
    "plt.errorbar(df.weight, df.rayon, yerr=df.rayon_error,\n",
    "    linestyle=\"None\",\n",
    "    lw=2.,\n",
    "    alpha=0.75,\n",
    "    zorder=1\n",
    "        \n",
    ")\n",
    "plt.axhline(df.rayon.min(), color='red')\n",
    "ax2.spines['top'].set_visible(False)\n",
    "ax2.spines['right'].set_visible(False)\n",
    "\n",
    "plt.title(\"Rayon, 10k Points, 2 Cores\")\n",
    "plt.tight_layout()\n",
    "plt.savefig(\n",
    "    'crossbeam_v_rayon.png',\n",
    "    format=\"png\", bbox_inches='tight',\n",
    "    alpha=True, transparent=True, dpi=100)\n",
    "plt.show()"
   ]
  },
  {
   "cell_type": "code",
   "execution_count": null,
   "metadata": {
    "collapsed": true
   },
   "outputs": [],
   "source": []
  }
 ],
 "metadata": {
  "kernelspec": {
   "display_name": "Python 2",
   "language": "python",
   "name": "python2"
  },
  "language_info": {
   "codemirror_mode": {
    "name": "ipython",
    "version": 2
   },
   "file_extension": ".py",
   "mimetype": "text/x-python",
   "name": "python",
   "nbconvert_exporter": "python",
   "pygments_lexer": "ipython2",
   "version": "2.7.10"
  }
 },
 "nbformat": 4,
 "nbformat_minor": 0
}
