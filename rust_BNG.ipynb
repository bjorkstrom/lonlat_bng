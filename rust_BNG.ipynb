{
 "cells": [
  {
   "cell_type": "markdown",
   "metadata": {},
   "source": [
    "### Using an external Rust library to speed up lon, lat to [BNG](https://en.wikipedia.org/wiki/Ordnance_Survey_National_Grid) conversion"
   ]
  },
  {
   "cell_type": "code",
   "execution_count": 1,
   "metadata": {
    "collapsed": false
   },
   "outputs": [],
   "source": [
    "import numpy as np\n",
    "import pandas as pd\n",
    "import math\n",
    "from ctypes import cdll, c_float, Structure, ARRAY, POINTER, c_int32, c_uint32, c_size_t, c_void_p, cast\n",
    "from sys import platform\n",
    "from bng import bng\n",
    "import pyproj\n",
    "import pdb"
   ]
  },
  {
   "cell_type": "markdown",
   "metadata": {},
   "source": [
    "### Setting up the Rust library. See [here](https://github.com/alexcrichton/rust-ffi-examples/tree/master/python-to-rust) for more"
   ]
  },
  {
   "cell_type": "markdown",
   "metadata": {},
   "source": [
    "Ensure you've built your Rust library using `cargo build --release`, or the next step will fail.\n",
    "\n",
    "The boilerplate below can easily be hidden in a wrapper function – it's just here to demonstrate how to call into a shared Rust lib using FFI."
   ]
  },
  {
   "cell_type": "code",
   "execution_count": 2,
   "metadata": {
    "collapsed": true
   },
   "outputs": [],
   "source": [
    "if platform == \"darwin\":\n",
    "    ext = \"dylib\"\n",
    "else:\n",
    "    ext = \"so\"\n",
    "    \n",
    "lib = cdll.LoadLibrary('target/release/liblonlat_bng.' + ext)"
   ]
  },
  {
   "cell_type": "markdown",
   "metadata": {},
   "source": [
    "Define the `ctypes` structures for lon, lat --> BNG conversion"
   ]
  },
  {
   "cell_type": "code",
   "execution_count": 3,
   "metadata": {
    "collapsed": false
   },
   "outputs": [],
   "source": [
    "class BNG_FFITuple(Structure):\n",
    "    _fields_ = [(\"a\", c_uint32),\n",
    "                (\"b\", c_uint32)]\n",
    "\n",
    "class BNG_FFIArray(Structure):\n",
    "    _fields_ = [(\"data\", c_void_p),\n",
    "                (\"len\", c_size_t)]\n",
    "\n",
    "    # Allow implicit conversions from a sequence of 32-bit unsigned\n",
    "    # integers.\n",
    "    @classmethod\n",
    "    def from_param(cls, seq):\n",
    "        return seq if isinstance(seq, cls) else cls(seq)\n",
    "\n",
    "    # Wrap sequence of values. You can specify another type besides a\n",
    "    # 32-bit unsigned integer.\n",
    "    def __init__(self, seq, data_type = c_float):\n",
    "        array_type = data_type * len(seq)\n",
    "        raw_seq = array_type(*seq)\n",
    "        self.data = cast(raw_seq, c_void_p)\n",
    "        self.len = len(seq)\n",
    "\n",
    "# A conversion function that cleans up the result value to make it\n",
    "# nicer to consume.\n",
    "def bng_void_array_to_tuple_list(array, _func, _args):\n",
    "    res = cast(array.data, POINTER(BNG_FFITuple * array.len))[0]\n",
    "    drop_array(array)\n",
    "    return res"
   ]
  },
  {
   "cell_type": "markdown",
   "metadata": {},
   "source": [
    "Define the `ctypes` structures for BNG --> lon, lat conversion"
   ]
  },
  {
   "cell_type": "code",
   "execution_count": 4,
   "metadata": {
    "collapsed": true
   },
   "outputs": [],
   "source": [
    "class LONLAT_FFITuple(Structure):\n",
    "    _fields_ = [(\"a\", c_float),\n",
    "                (\"b\", c_float)]\n",
    "\n",
    "class LONLAT_FFIArray(Structure):\n",
    "    _fields_ = [(\"data\", c_void_p),\n",
    "                (\"len\", c_size_t)]\n",
    "\n",
    "    # Allow implicit conversions from a sequence of 32-bit unsigned\n",
    "    # integers.\n",
    "    @classmethod\n",
    "    def from_param(cls, seq):\n",
    "        return seq if isinstance(seq, cls) else cls(seq)\n",
    "\n",
    "    # Wrap sequence of values. You can specify another type besides a\n",
    "    # 32-bit unsigned integer.\n",
    "    def __init__(self, seq, data_type = c_uint32):\n",
    "        array_type = data_type * len(seq)\n",
    "        raw_seq = array_type(*seq)\n",
    "        self.data = cast(raw_seq, c_void_p)\n",
    "        self.len = len(seq)\n",
    "\n",
    "# A conversion function that cleans up the result value to make it\n",
    "# nicer to consume.\n",
    "def lonlat_void_array_to_tuple_list(array, _func, _args):\n",
    "    res = cast(array.data, POINTER(LONLAT_FFITuple * array.len))[0]\n",
    "    return res    "
   ]
  },
  {
   "cell_type": "markdown",
   "metadata": {},
   "source": [
    "Define `ctypes` input and return parameters"
   ]
  },
  {
   "cell_type": "code",
   "execution_count": 5,
   "metadata": {
    "collapsed": false
   },
   "outputs": [],
   "source": [
    "# Single-threaded\n",
    "convert_vec = lib.convert_vec_c\n",
    "convert_vec.argtypes = (BNG_FFIArray, BNG_FFIArray)\n",
    "convert_vec.restype = BNG_FFIArray\n",
    "convert_vec.errcheck = bng_void_array_to_tuple_list\n",
    "\n",
    "# Multi-threaded\n",
    "convert_bng = lib.convert_to_bng\n",
    "convert_bng.argtypes = (BNG_FFIArray, BNG_FFIArray)\n",
    "convert_bng.restype = BNG_FFIArray\n",
    "convert_bng.errcheck = bng_void_array_to_tuple_list\n",
    "\n",
    "convert_lonlat = lib.convert_to_lonlat\n",
    "convert_lonlat.argtypes = (LONLAT_FFIArray, LONLAT_FFIArray)\n",
    "convert_lonlat.restype = LONLAT_FFIArray\n",
    "convert_lonlat.errcheck = lonlat_void_array_to_tuple_list\n",
    "\n",
    "# cleanup\n",
    "drop_array = lib.drop_array \n",
    "drop_array.argtypes = (POINTER(BNG_FFIArray),)"
   ]
  },
  {
   "cell_type": "code",
   "execution_count": 6,
   "metadata": {
    "collapsed": false
   },
   "outputs": [],
   "source": [
    "def convertbng(lons, lats):\n",
    "    \"\"\" Multi-threaded wrapper \"\"\"\n",
    "    return [(i.a, i.b) for i in iter(convert_vec(lons, lats))]\n",
    "\n",
    "def convertbng_threaded(lons, lats):\n",
    "    \"\"\" Multi-threaded lon lat to BNG wrapper \"\"\"\n",
    "    return [(i.a, i.b) for i in iter(convert_bng(lons, lats))]\n",
    "\n",
    "def convertlonlat_threaded(eastings, northings):\n",
    "    \"\"\" Multi-threaded BNG to lon, lat wrapper \"\"\"\n",
    "    return [(i.a, i.b) for i in iter(convert_lonlat(eastings, northings))]"
   ]
  },
  {
   "cell_type": "markdown",
   "metadata": {},
   "source": [
    "## Simple test of average conversion speed, Python version"
   ]
  },
  {
   "cell_type": "code",
   "execution_count": 7,
   "metadata": {
    "collapsed": false
   },
   "outputs": [
    {
     "name": "stdout",
     "output_type": "stream",
     "text": [
      "10000 loops, best of 10: 28.4 µs per loop\n"
     ]
    }
   ],
   "source": [
    "%%timeit -r 10\n",
    "bng(51.44533267, -0.32824866)"
   ]
  },
  {
   "cell_type": "code",
   "execution_count": 9,
   "metadata": {
    "collapsed": false
   },
   "outputs": [
    {
     "ename": "NameError",
     "evalue": "global name 'convertbng_list' is not defined",
     "output_type": "error",
     "traceback": [
      "\u001b[0;31m---------------------------------------------------------------------------\u001b[0m",
      "\u001b[0;31mNameError\u001b[0m                                 Traceback (most recent call last)",
      "\u001b[0;32m<ipython-input-9-a5ad56547ae8>\u001b[0m in \u001b[0;36m<module>\u001b[0;34m()\u001b[0m\n\u001b[0;32m----> 1\u001b[0;31m \u001b[0mget_ipython\u001b[0m\u001b[0;34m(\u001b[0m\u001b[0;34m)\u001b[0m\u001b[0;34m.\u001b[0m\u001b[0mrun_cell_magic\u001b[0m\u001b[0;34m(\u001b[0m\u001b[0;34mu'timeit'\u001b[0m\u001b[0;34m,\u001b[0m \u001b[0;34mu'-r 10'\u001b[0m\u001b[0;34m,\u001b[0m \u001b[0;34mu'convertbng_list([-0.32824866], [51.44533267])'\u001b[0m\u001b[0;34m)\u001b[0m\u001b[0;34m\u001b[0m\u001b[0m\n\u001b[0m",
      "\u001b[0;32m/Library/Frameworks/Python.framework/Versions/2.7/lib/python2.7/site-packages/IPython/core/interactiveshell.pyc\u001b[0m in \u001b[0;36mrun_cell_magic\u001b[0;34m(self, magic_name, line, cell)\u001b[0m\n\u001b[1;32m   2291\u001b[0m             \u001b[0mmagic_arg_s\u001b[0m \u001b[0;34m=\u001b[0m \u001b[0mself\u001b[0m\u001b[0;34m.\u001b[0m\u001b[0mvar_expand\u001b[0m\u001b[0;34m(\u001b[0m\u001b[0mline\u001b[0m\u001b[0;34m,\u001b[0m \u001b[0mstack_depth\u001b[0m\u001b[0;34m)\u001b[0m\u001b[0;34m\u001b[0m\u001b[0m\n\u001b[1;32m   2292\u001b[0m             \u001b[0;32mwith\u001b[0m \u001b[0mself\u001b[0m\u001b[0;34m.\u001b[0m\u001b[0mbuiltin_trap\u001b[0m\u001b[0;34m:\u001b[0m\u001b[0;34m\u001b[0m\u001b[0m\n\u001b[0;32m-> 2293\u001b[0;31m                 \u001b[0mresult\u001b[0m \u001b[0;34m=\u001b[0m \u001b[0mfn\u001b[0m\u001b[0;34m(\u001b[0m\u001b[0mmagic_arg_s\u001b[0m\u001b[0;34m,\u001b[0m \u001b[0mcell\u001b[0m\u001b[0;34m)\u001b[0m\u001b[0;34m\u001b[0m\u001b[0m\n\u001b[0m\u001b[1;32m   2294\u001b[0m             \u001b[0;32mreturn\u001b[0m \u001b[0mresult\u001b[0m\u001b[0;34m\u001b[0m\u001b[0m\n\u001b[1;32m   2295\u001b[0m \u001b[0;34m\u001b[0m\u001b[0m\n",
      "\u001b[0;32m/Library/Frameworks/Python.framework/Versions/2.7/lib/python2.7/site-packages/IPython/core/magics/execution.pyc\u001b[0m in \u001b[0;36mtimeit\u001b[0;34m(self, line, cell)\u001b[0m\n",
      "\u001b[0;32m/Library/Frameworks/Python.framework/Versions/2.7/lib/python2.7/site-packages/IPython/core/magic.pyc\u001b[0m in \u001b[0;36m<lambda>\u001b[0;34m(f, *a, **k)\u001b[0m\n\u001b[1;32m    191\u001b[0m     \u001b[0;31m# but it's overkill for just that one bit of state.\u001b[0m\u001b[0;34m\u001b[0m\u001b[0;34m\u001b[0m\u001b[0m\n\u001b[1;32m    192\u001b[0m     \u001b[0;32mdef\u001b[0m \u001b[0mmagic_deco\u001b[0m\u001b[0;34m(\u001b[0m\u001b[0marg\u001b[0m\u001b[0;34m)\u001b[0m\u001b[0;34m:\u001b[0m\u001b[0;34m\u001b[0m\u001b[0m\n\u001b[0;32m--> 193\u001b[0;31m         \u001b[0mcall\u001b[0m \u001b[0;34m=\u001b[0m \u001b[0;32mlambda\u001b[0m \u001b[0mf\u001b[0m\u001b[0;34m,\u001b[0m \u001b[0;34m*\u001b[0m\u001b[0ma\u001b[0m\u001b[0;34m,\u001b[0m \u001b[0;34m**\u001b[0m\u001b[0mk\u001b[0m\u001b[0;34m:\u001b[0m \u001b[0mf\u001b[0m\u001b[0;34m(\u001b[0m\u001b[0;34m*\u001b[0m\u001b[0ma\u001b[0m\u001b[0;34m,\u001b[0m \u001b[0;34m**\u001b[0m\u001b[0mk\u001b[0m\u001b[0;34m)\u001b[0m\u001b[0;34m\u001b[0m\u001b[0m\n\u001b[0m\u001b[1;32m    194\u001b[0m \u001b[0;34m\u001b[0m\u001b[0m\n\u001b[1;32m    195\u001b[0m         \u001b[0;32mif\u001b[0m \u001b[0mcallable\u001b[0m\u001b[0;34m(\u001b[0m\u001b[0marg\u001b[0m\u001b[0;34m)\u001b[0m\u001b[0;34m:\u001b[0m\u001b[0;34m\u001b[0m\u001b[0m\n",
      "\u001b[0;32m/Library/Frameworks/Python.framework/Versions/2.7/lib/python2.7/site-packages/IPython/core/magics/execution.pyc\u001b[0m in \u001b[0;36mtimeit\u001b[0;34m(self, line, cell)\u001b[0m\n\u001b[1;32m   1035\u001b[0m             \u001b[0mnumber\u001b[0m \u001b[0;34m=\u001b[0m \u001b[0;36m1\u001b[0m\u001b[0;34m\u001b[0m\u001b[0m\n\u001b[1;32m   1036\u001b[0m             \u001b[0;32mfor\u001b[0m \u001b[0m_\u001b[0m \u001b[0;32min\u001b[0m \u001b[0mrange\u001b[0m\u001b[0;34m(\u001b[0m\u001b[0;36m1\u001b[0m\u001b[0;34m,\u001b[0m \u001b[0;36m10\u001b[0m\u001b[0;34m)\u001b[0m\u001b[0;34m:\u001b[0m\u001b[0;34m\u001b[0m\u001b[0m\n\u001b[0;32m-> 1037\u001b[0;31m                 \u001b[0mtime_number\u001b[0m \u001b[0;34m=\u001b[0m \u001b[0mtimer\u001b[0m\u001b[0;34m.\u001b[0m\u001b[0mtimeit\u001b[0m\u001b[0;34m(\u001b[0m\u001b[0mnumber\u001b[0m\u001b[0;34m)\u001b[0m\u001b[0;34m\u001b[0m\u001b[0m\n\u001b[0m\u001b[1;32m   1038\u001b[0m                 \u001b[0mworst_tuning\u001b[0m \u001b[0;34m=\u001b[0m \u001b[0mmax\u001b[0m\u001b[0;34m(\u001b[0m\u001b[0mworst_tuning\u001b[0m\u001b[0;34m,\u001b[0m \u001b[0mtime_number\u001b[0m \u001b[0;34m/\u001b[0m \u001b[0mnumber\u001b[0m\u001b[0;34m)\u001b[0m\u001b[0;34m\u001b[0m\u001b[0m\n\u001b[1;32m   1039\u001b[0m                 \u001b[0;32mif\u001b[0m \u001b[0mtime_number\u001b[0m \u001b[0;34m>=\u001b[0m \u001b[0;36m0.2\u001b[0m\u001b[0;34m:\u001b[0m\u001b[0;34m\u001b[0m\u001b[0m\n",
      "\u001b[0;32m/Library/Frameworks/Python.framework/Versions/2.7/lib/python2.7/site-packages/IPython/core/magics/execution.pyc\u001b[0m in \u001b[0;36mtimeit\u001b[0;34m(self, number)\u001b[0m\n\u001b[1;32m    131\u001b[0m         \u001b[0mgc\u001b[0m\u001b[0;34m.\u001b[0m\u001b[0mdisable\u001b[0m\u001b[0;34m(\u001b[0m\u001b[0;34m)\u001b[0m\u001b[0;34m\u001b[0m\u001b[0m\n\u001b[1;32m    132\u001b[0m         \u001b[0;32mtry\u001b[0m\u001b[0;34m:\u001b[0m\u001b[0;34m\u001b[0m\u001b[0m\n\u001b[0;32m--> 133\u001b[0;31m             \u001b[0mtiming\u001b[0m \u001b[0;34m=\u001b[0m \u001b[0mself\u001b[0m\u001b[0;34m.\u001b[0m\u001b[0minner\u001b[0m\u001b[0;34m(\u001b[0m\u001b[0mit\u001b[0m\u001b[0;34m,\u001b[0m \u001b[0mself\u001b[0m\u001b[0;34m.\u001b[0m\u001b[0mtimer\u001b[0m\u001b[0;34m)\u001b[0m\u001b[0;34m\u001b[0m\u001b[0m\n\u001b[0m\u001b[1;32m    134\u001b[0m         \u001b[0;32mfinally\u001b[0m\u001b[0;34m:\u001b[0m\u001b[0;34m\u001b[0m\u001b[0m\n\u001b[1;32m    135\u001b[0m             \u001b[0;32mif\u001b[0m \u001b[0mgcold\u001b[0m\u001b[0;34m:\u001b[0m\u001b[0;34m\u001b[0m\u001b[0m\n",
      "\u001b[0;32m<magic-timeit>\u001b[0m in \u001b[0;36minner\u001b[0;34m(_it, _timer)\u001b[0m\n",
      "\u001b[0;31mNameError\u001b[0m: global name 'convertbng_list' is not defined"
     ]
    }
   ],
   "source": [
    "%%timeit -r 10\n",
    "convertbng_list([-0.32824866], [51.44533267])"
   ]
  },
  {
   "cell_type": "markdown",
   "metadata": {},
   "source": [
    "The threaded version's slower. Threads have overhead!"
   ]
  },
  {
   "cell_type": "markdown",
   "metadata": {},
   "source": [
    "## A slightly more realistic test: 10MM random points within the UK"
   ]
  },
  {
   "cell_type": "code",
   "execution_count": 7,
   "metadata": {
    "collapsed": false
   },
   "outputs": [],
   "source": [
    "# UK bounding box\n",
    "N = 55.811741\n",
    "E = 1.768960\n",
    "S = 49.871159\n",
    "W = -6.379880\n",
    "\n",
    "bng = pyproj.Proj(init='epsg:27700')\n",
    "wgs84 = pyproj.Proj(init='epsg:4326')\n",
    "\n",
    "lon_ls = list(np.random.uniform(W, E, [10000]))\n",
    "lat_ls = list(np.random.uniform(S, N, [10000]))"
   ]
  },
  {
   "cell_type": "markdown",
   "metadata": {},
   "source": [
    "### Pure Python"
   ]
  },
  {
   "cell_type": "code",
   "execution_count": 17,
   "metadata": {
    "collapsed": false
   },
   "outputs": [
    {
     "name": "stdout",
     "output_type": "stream",
     "text": [
      "10 loops, best of 3: 80.2 ms per loop\n"
     ]
    }
   ],
   "source": [
    "%%timeit\n",
    "[bng(lat, lon) for lat, lon in zip(lat_ls, lon_ls)]"
   ]
  },
  {
   "cell_type": "markdown",
   "metadata": {},
   "source": [
    "### Pyproj"
   ]
  },
  {
   "cell_type": "code",
   "execution_count": 9,
   "metadata": {
    "collapsed": false
   },
   "outputs": [
    {
     "name": "stdout",
     "output_type": "stream",
     "text": [
      "100 loops, best of 15: 6.97 ms per loop\n"
     ]
    }
   ],
   "source": [
    "%%timeit -r 15\n",
    "proj_res = zip(*pyproj.transform(wgs84, bng, lon_ls, lat_ls))"
   ]
  },
  {
   "cell_type": "markdown",
   "metadata": {},
   "source": [
    "### Single-threaded Rust"
   ]
  },
  {
   "cell_type": "code",
   "execution_count": 9,
   "metadata": {
    "collapsed": false
   },
   "outputs": [
    {
     "name": "stdout",
     "output_type": "stream",
     "text": [
      "1 loops, best of 15: 1.64 s per loop\n"
     ]
    }
   ],
   "source": [
    "%%timeit -r 15\n",
    "convertbng(lon_ls, lat_ls)"
   ]
  },
  {
   "cell_type": "markdown",
   "metadata": {},
   "source": [
    "### Multithreaded Rust"
   ]
  },
  {
   "cell_type": "code",
   "execution_count": null,
   "metadata": {
    "collapsed": false
   },
   "outputs": [],
   "source": [
    "%%timeit -r 15\n",
    "convertbng_threaded(lon_ls, lat_ls)"
   ]
  },
  {
   "cell_type": "markdown",
   "metadata": {
    "collapsed": true
   },
   "source": [
    "## Pyproj is now only ~65% faster, multithreaded Rust version is 5x faster than pure Python"
   ]
  },
  {
   "cell_type": "code",
   "execution_count": null,
   "metadata": {
    "collapsed": true
   },
   "outputs": [],
   "source": []
  }
 ],
 "metadata": {
  "kernelspec": {
   "display_name": "Python 2",
   "language": "python",
   "name": "python2"
  },
  "language_info": {
   "codemirror_mode": {
    "name": "ipython",
    "version": 2
   },
   "file_extension": ".py",
   "mimetype": "text/x-python",
   "name": "python",
   "nbconvert_exporter": "python",
   "pygments_lexer": "ipython2",
   "version": "2.7.10"
  }
 },
 "nbformat": 4,
 "nbformat_minor": 0
}
