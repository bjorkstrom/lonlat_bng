{
 "cells": [
  {
   "cell_type": "markdown",
   "metadata": {},
   "source": [
    "### Using an external Rust library to speed up lon, lat to [BNG](https://en.wikipedia.org/wiki/Ordnance_Survey_National_Grid) conversion"
   ]
  },
  {
   "cell_type": "code",
   "execution_count": 1,
   "metadata": {
    "collapsed": false
   },
   "outputs": [],
   "source": [
    "import numpy as np\n",
    "import pandas as pd\n",
    "import math\n",
    "from ctypes import cdll, c_float, Structure, ARRAY, POINTER, c_int32, c_uint32, c_size_t, c_void_p, cast\n",
    "from sys import platform\n",
    "from bng import bng\n",
    "import pyproj\n",
    "import pdb"
   ]
  },
  {
   "cell_type": "markdown",
   "metadata": {},
   "source": [
    "### Setting up the Rust library. See [here](https://github.com/alexcrichton/rust-ffi-examples/tree/master/python-to-rust) for more"
   ]
  },
  {
   "cell_type": "markdown",
   "metadata": {},
   "source": [
    "Ensure you've built your Rust library using `cargo build --release`, or the next step will fail.\n",
    "\n",
    "The boilerplate below can easily be hidden in a wrapper function – it's just here to demonstrate how to call into a shared Rust lib using FFI."
   ]
  },
  {
   "cell_type": "code",
   "execution_count": 2,
   "metadata": {
    "collapsed": true
   },
   "outputs": [],
   "source": [
    "if platform == \"darwin\":\n",
    "    ext = \"dylib\"\n",
    "else:\n",
    "    ext = \"so\"\n",
    "    \n",
    "lib = cdll.LoadLibrary('target/release/liblonlat_bng.' + ext)"
   ]
  },
  {
   "cell_type": "markdown",
   "metadata": {},
   "source": [
    "Define the `ctypes` structures for lon, lat --> BNG conversion"
   ]
  },
  {
   "cell_type": "code",
   "execution_count": 24,
   "metadata": {
    "collapsed": false
   },
   "outputs": [],
   "source": [
    "class BNG_FFITuple(Structure):\n",
    "    _fields_ = [(\"a\", c_uint32),\n",
    "                (\"b\", c_uint32)]\n",
    "\n",
    "class BNG_FFIArray(Structure):\n",
    "    _fields_ = [(\"data\", c_void_p),\n",
    "                (\"len\", c_size_t)]\n",
    "\n",
    "    # Allow implicit conversions from a sequence of 32-bit unsigned\n",
    "    # integers.\n",
    "    @classmethod\n",
    "    def from_param(cls, seq):\n",
    "        return seq if isinstance(seq, cls) else cls(seq)\n",
    "\n",
    "    # Wrap sequence of values. You can specify another type besides a\n",
    "    # 32-bit unsigned integer.\n",
    "    def __init__(self, seq, data_type = c_float):\n",
    "        array_type = data_type * len(seq)\n",
    "        raw_seq = array_type(*seq)\n",
    "        self.data = cast(raw_seq, c_void_p)\n",
    "        self.len = len(seq)\n",
    "\n",
    "# A conversion function that cleans up the result value to make it\n",
    "# nicer to consume.\n",
    "def bng_void_array_to_tuple_list(array, _func, _args):\n",
    "    res = cast(array.data, POINTER(BNG_FFITuple * array.len))[0]\n",
    "    return res"
   ]
  },
  {
   "cell_type": "markdown",
   "metadata": {},
   "source": [
    "Define the `ctypes` structures for BNG --> lon, lat conversion"
   ]
  },
  {
   "cell_type": "code",
   "execution_count": 23,
   "metadata": {
    "collapsed": true
   },
   "outputs": [],
   "source": [
    "class LONLAT_FFITuple(Structure):\n",
    "    _fields_ = [(\"a\", c_float),\n",
    "                (\"b\", c_float)]\n",
    "\n",
    "class LONLAT_FFIArray(Structure):\n",
    "    _fields_ = [(\"data\", c_void_p),\n",
    "                (\"len\", c_size_t)]\n",
    "\n",
    "    # Allow implicit conversions from a sequence of 32-bit unsigned\n",
    "    # integers.\n",
    "    @classmethod\n",
    "    def from_param(cls, seq):\n",
    "        return seq if isinstance(seq, cls) else cls(seq)\n",
    "\n",
    "    # Wrap sequence of values. You can specify another type besides a\n",
    "    # 32-bit unsigned integer.\n",
    "    def __init__(self, seq, data_type = c_uint32):\n",
    "        array_type = data_type * len(seq)\n",
    "        raw_seq = array_type(*seq)\n",
    "        self.data = cast(raw_seq, c_void_p)\n",
    "        self.len = len(seq)\n",
    "\n",
    "# A conversion function that cleans up the result value to make it\n",
    "# nicer to consume.\n",
    "def lonlat_void_array_to_tuple_list(array, _func, _args):\n",
    "    res = cast(array.data, POINTER(LONLAT_FFITuple * array.len))[0]\n",
    "    return res    "
   ]
  },
  {
   "cell_type": "markdown",
   "metadata": {},
   "source": [
    "Define `ctypes` input and return parameters"
   ]
  },
  {
   "cell_type": "code",
   "execution_count": 25,
   "metadata": {
    "collapsed": false
   },
   "outputs": [],
   "source": [
    "# Single-threaded\n",
    "convert_vec = lib.convert_vec_c\n",
    "convert_vec.argtypes = (BNG_FFIArray, BNG_FFIArray)\n",
    "convert_vec.restype = BNG_FFIArray\n",
    "convert_vec.errcheck = bng_void_array_to_tuple_list\n",
    "\n",
    "# Multi-threaded\n",
    "convert_bng = lib.convert_to_bng\n",
    "convert_bng.argtypes = (BNG_FFIArray, BNG_FFIArray)\n",
    "convert_bng.restype = BNG_FFIArray\n",
    "convert_bng.errcheck = bng_void_array_to_tuple_list\n",
    "\n",
    "convert_lonlat = lib.convert_to_lonlat\n",
    "convert_lonlat.argtypes = (LONLAT_FFIArray, LONLAT_FFIArray)\n",
    "convert_lonlat.restype = LONLAT_FFIArray\n",
    "convert_lonlat.errcheck = lonlat_void_array_to_tuple_list\n",
    "\n",
    "# cleanup\n",
    "drop_array = lib.drop_array \n",
    "drop_array.argtypes = (POINTER(BNG_FFIArray),)"
   ]
  },
  {
   "cell_type": "code",
   "execution_count": 13,
   "metadata": {
    "collapsed": false
   },
   "outputs": [],
   "source": [
    "def convertbng(lons, lats):\n",
    "    \"\"\" Multi-threaded wrapper \"\"\"\n",
    "    return [(i.a, i.b) for i in iter(convert_vec(lons, lats))]\n",
    "\n",
    "def convertbng_threaded(lons, lats):\n",
    "    \"\"\" Multi-threaded lon lat to BNG wrapper \"\"\"\n",
    "    return [(i.a, i.b) for i in iter(convert_bng(lons, lats))]\n",
    "\n",
    "def convertlonlat_threaded(eastings, northings):\n",
    "    \"\"\" Multi-threaded BNG to lon, lat wrapper \"\"\"\n",
    "    return [(i.a, i.b) for i in iter(convert_lonlat(eastings, northings))]"
   ]
  },
  {
   "cell_type": "markdown",
   "metadata": {},
   "source": [
    "## Simple test of average conversion speed, Python version"
   ]
  },
  {
   "cell_type": "code",
   "execution_count": 7,
   "metadata": {
    "collapsed": false
   },
   "outputs": [
    {
     "name": "stdout",
     "output_type": "stream",
     "text": [
      "10000 loops, best of 10: 28.4 µs per loop\n"
     ]
    }
   ],
   "source": [
    "%%timeit -r 10\n",
    "bng(51.44533267, -0.32824866)"
   ]
  },
  {
   "cell_type": "code",
   "execution_count": 8,
   "metadata": {
    "collapsed": false
   },
   "outputs": [
    {
     "name": "stdout",
     "output_type": "stream",
     "text": [
      "The slowest run took 4.01 times longer than the fastest. This could mean that an intermediate result is being cached \n",
      "10000 loops, best of 10: 79.3 µs per loop\n"
     ]
    }
   ],
   "source": [
    "%%timeit -r 10\n",
    "convertbng_list([-0.32824866], [51.44533267])"
   ]
  },
  {
   "cell_type": "markdown",
   "metadata": {},
   "source": [
    "The threaded version's slower. Threads have overhead!"
   ]
  },
  {
   "cell_type": "markdown",
   "metadata": {},
   "source": [
    "## A slightly more realistic test: 10MM random points within the UK"
   ]
  },
  {
   "cell_type": "code",
   "execution_count": 8,
   "metadata": {
    "collapsed": false
   },
   "outputs": [],
   "source": [
    "# UK bounding box\n",
    "N = 55.811741\n",
    "E = 1.768960\n",
    "S = 49.871159\n",
    "W = -6.379880\n",
    "\n",
    "bng = pyproj.Proj(init='epsg:27700')\n",
    "wgs84 = pyproj.Proj(init='epsg:4326')\n",
    "\n",
    "lon_ls = list(np.random.uniform(W, E, [1000000]))\n",
    "lat_ls = list(np.random.uniform(N, S, [1000000]))"
   ]
  },
  {
   "cell_type": "markdown",
   "metadata": {},
   "source": [
    "### Pure Python"
   ]
  },
  {
   "cell_type": "code",
   "execution_count": 9,
   "metadata": {
    "collapsed": false
   },
   "outputs": [
    {
     "name": "stdout",
     "output_type": "stream",
     "text": [
      "1 loops, best of 3: 5.26 s per loop\n"
     ]
    }
   ],
   "source": [
    "%%timeit\n",
    "[bng(lat, lon) for lat, lon in zip(lat_ls, lon_ls)]"
   ]
  },
  {
   "cell_type": "markdown",
   "metadata": {},
   "source": [
    "### Pyproj"
   ]
  },
  {
   "cell_type": "code",
   "execution_count": 8,
   "metadata": {
    "collapsed": false
   },
   "outputs": [
    {
     "name": "stdout",
     "output_type": "stream",
     "text": [
      "1 loops, best of 5: 1.01 s per loop\n"
     ]
    }
   ],
   "source": [
    "%%timeit -r 15\n",
    "proj_res = zip(*pyproj.transform(wgs84, bng, lon_ls, lat_ls))"
   ]
  },
  {
   "cell_type": "markdown",
   "metadata": {},
   "source": [
    "### Single-threaded Rust"
   ]
  },
  {
   "cell_type": "code",
   "execution_count": 9,
   "metadata": {
    "collapsed": false
   },
   "outputs": [
    {
     "name": "stdout",
     "output_type": "stream",
     "text": [
      "1 loops, best of 5: 2.01 s per loop\n"
     ]
    }
   ],
   "source": [
    "%%timeit -r 15\n",
    "convertbng(lon_ls, lat_ls)"
   ]
  },
  {
   "cell_type": "markdown",
   "metadata": {},
   "source": [
    "### Multithreaded Rust"
   ]
  },
  {
   "cell_type": "code",
   "execution_count": 11,
   "metadata": {
    "collapsed": false
   },
   "outputs": [
    {
     "name": "stdout",
     "output_type": "stream",
     "text": [
      "1 loops, best of 15: 1.82 s per loop\n"
     ]
    }
   ],
   "source": [
    "%%timeit -r 15\n",
    "convertbng_threaded(lon_ls, lat_ls)"
   ]
  },
  {
   "cell_type": "markdown",
   "metadata": {
    "collapsed": true
   },
   "source": [
    "## Pyproj is now only ~65% faster, multithreaded Rust version is 5x faster than pure Python"
   ]
  },
  {
   "cell_type": "code",
   "execution_count": 26,
   "metadata": {
    "collapsed": false
   },
   "outputs": [
    {
     "data": {
      "text/plain": [
       "[(178548L, 91210L),\n",
       " (516141L, 571036L),\n",
       " (243008L, 335267L),\n",
       " (386602L, 280063L),\n",
       " (579754L, 171867L)]"
      ]
     },
     "execution_count": 26,
     "metadata": {},
     "output_type": "execute_result"
    }
   ],
   "source": [
    "convertbng_threaded(lon_ls[:5], lat_ls[:5])"
   ]
  },
  {
   "cell_type": "code",
   "execution_count": null,
   "metadata": {
    "collapsed": true
   },
   "outputs": [],
   "source": []
  }
 ],
 "metadata": {
  "kernelspec": {
   "display_name": "Python 2",
   "language": "python",
   "name": "python2"
  },
  "language_info": {
   "codemirror_mode": {
    "name": "ipython",
    "version": 2
   },
   "file_extension": ".py",
   "mimetype": "text/x-python",
   "name": "python",
   "nbconvert_exporter": "python",
   "pygments_lexer": "ipython2",
   "version": "2.7.9"
  }
 },
 "nbformat": 4,
 "nbformat_minor": 0
}
