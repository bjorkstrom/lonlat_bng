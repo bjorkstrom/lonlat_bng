{
 "cells": [
  {
   "cell_type": "markdown",
   "metadata": {},
   "source": [
    "### Using an external Rust library to speed up lon, lat to [BNG](https://en.wikipedia.org/wiki/Ordnance_Survey_National_Grid) conversion"
   ]
  },
  {
   "cell_type": "code",
   "execution_count": 1,
   "metadata": {
    "collapsed": false
   },
   "outputs": [],
   "source": [
    "import numpy as np\n",
    "import pandas as pd\n",
    "import math\n",
    "from ctypes import cdll, c_float, Structure, ARRAY, POINTER, c_int32, c_uint32, c_size_t, c_void_p, cast\n",
    "from sys import platform\n",
    "from bng import bng\n",
    "import pyproj\n",
    "import ipdb\n",
    "from array import array\n",
    "# from util import convertbng, convertlonlat"
   ]
  },
  {
   "cell_type": "markdown",
   "metadata": {},
   "source": [
    "### Setting up the Rust library. See [here](https://github.com/alexcrichton/rust-ffi-examples/tree/master/python-to-rust) for more"
   ]
  },
  {
   "cell_type": "markdown",
   "metadata": {},
   "source": [
    "Ensure you've built your Rust library using `cargo build --release`, or the next step will fail.\n",
    "\n",
    "The boilerplate below can easily be hidden in a wrapper function – it's just here to demonstrate how to call into a shared Rust lib using FFI."
   ]
  },
  {
   "cell_type": "code",
   "execution_count": 2,
   "metadata": {
    "collapsed": true
   },
   "outputs": [],
   "source": [
    "if platform == \"darwin\":\n",
    "    ext = \"dylib\"\n",
    "else:\n",
    "    ext = \"so\"\n",
    "    \n",
    "lib = cdll.LoadLibrary('target/release/liblonlat_bng.' + ext)"
   ]
  },
  {
   "cell_type": "markdown",
   "metadata": {},
   "source": [
    "Define the `ctypes` structures for lon, lat --> BNG conversion"
   ]
  },
  {
   "cell_type": "code",
   "execution_count": 3,
   "metadata": {
    "collapsed": false
   },
   "outputs": [],
   "source": [
    "class BNG_FFITuple(Structure):\n",
    "    _fields_ = [(\"a\", c_uint32),\n",
    "                (\"b\", c_uint32)]\n",
    "\n",
    "class BNG_FFIArray(Structure):\n",
    "    _fields_ = [(\"data\", c_void_p),\n",
    "                (\"len\", c_size_t)]\n",
    "\n",
    "    # Allow implicit conversions from a sequence of 32-bit unsigned\n",
    "    # integers.\n",
    "    @classmethod\n",
    "    def from_param(cls, seq):\n",
    "        return seq if isinstance(seq, cls) else cls(seq)\n",
    "\n",
    "    # Wrap sequence of values. You can specify another type besides a\n",
    "    # float.\n",
    "    def __init__(self, seq, data_type = c_float):\n",
    "        buf = array('f', seq)\n",
    "        array_type = data_type * len(buf)\n",
    "        raw_seq = array_type.from_buffer(buf)\n",
    "        self.data = cast(raw_seq, c_void_p)\n",
    "        self.len = len(seq)\n",
    "\n",
    "class BNG_RESTuple(Structure):\n",
    "    _fields_ = [(\"e\", BNG_FFIArray),\n",
    "                (\"n\", BNG_FFIArray)]        \n",
    "\n",
    "# A conversion function that cleans up the result value to make it\n",
    "# nicer to consume.\n",
    "def bng_void_array_to_tuple_list(restuple, _func, _args):\n",
    "    eastings = cast(restuple.e.data, POINTER(c_int32 * restuple.e.len))[0]\n",
    "    northings = cast(restuple.n.data, POINTER(c_int32 * restuple.n.len))[0]\n",
    "    res_list = [list(eastings), list(northings)]\n",
    "    drop_bng_array(restuple.e, restuple.n)\n",
    "    return res_list"
   ]
  },
  {
   "cell_type": "markdown",
   "metadata": {},
   "source": [
    "Define the `ctypes` structures for BNG --> lon, lat conversion"
   ]
  },
  {
   "cell_type": "code",
   "execution_count": 4,
   "metadata": {
    "collapsed": true
   },
   "outputs": [],
   "source": [
    "class LONLAT_FFITuple(Structure):\n",
    "    _fields_ = [(\"a\", c_float),\n",
    "                (\"b\", c_float)]\n",
    "\n",
    "class LONLAT_FFIArray(Structure):\n",
    "    _fields_ = [(\"data\", c_void_p),\n",
    "                (\"len\", c_size_t)]\n",
    "\n",
    "    # Allow implicit conversions from a sequence of 32-bit unsigned\n",
    "    # integers.\n",
    "    @classmethod\n",
    "    def from_param(cls, seq):\n",
    "        return seq if isinstance(seq, cls) else cls(seq)\n",
    "\n",
    "    # Wrap sequence of values. You can specify another type besides a\n",
    "    # 32-bit unsigned integer.\n",
    "    def __init__(self, seq, data_type = c_uint32):\n",
    "        array_type = data_type * len(seq)\n",
    "        raw_seq = array_type(*seq)\n",
    "        self.data = cast(raw_seq, c_void_p)\n",
    "        self.len = len(seq)\n",
    "\n",
    "class LONLAT_RESTuple(Structure):\n",
    "    _fields_ = [(\"lon\", LONLAT_FFIArray),\n",
    "                (\"lat\", LONLAT_FFIArray)]           \n",
    "\n",
    "# A conversion function that cleans up the result value to make it\n",
    "# nicer to consume.\n",
    "def lonlat_void_array_to_tuple_list(array, _func, _args):\n",
    "    lons = cast(restuple.lon.data, POINTER(c_float * restuple.lon.len))[0]\n",
    "    lats = cast(restuple.lat.data, POINTER(c_float * restuple.lat.len))[0]\n",
    "    res_list = [list(lons), list(lats)]\n",
    "    drop_bng_array(restuple.lon, restuple.lat)\n",
    "    return res_list"
   ]
  },
  {
   "cell_type": "markdown",
   "metadata": {},
   "source": [
    "Define `ctypes` input and return parameters"
   ]
  },
  {
   "cell_type": "code",
   "execution_count": 5,
   "metadata": {
    "collapsed": false
   },
   "outputs": [],
   "source": [
    "# Multi-threaded\n",
    "convert_bng = lib.convert_to_bng_threaded\n",
    "convert_bng.argtypes = (BNG_FFIArray, BNG_FFIArray)\n",
    "convert_bng.restype = BNG_RESTuple\n",
    "convert_bng.errcheck = bng_void_array_to_tuple_list\n",
    "\n",
    "convert_lonlat = lib.convert_to_lonlat_threaded\n",
    "convert_lonlat.argtypes = (LONLAT_FFIArray, LONLAT_FFIArray)\n",
    "convert_lonlat.restype = LONLAT_RESTuple\n",
    "convert_lonlat.errcheck = lonlat_void_array_to_tuple_list\n",
    "\n",
    "# cleanup\n",
    "drop_bng_array = lib.drop_int_array\n",
    "drop_bng_array.argtypes = (BNG_FFIArray, BNG_FFIArray)\n",
    "drop_bng_array.restype = None\n",
    "drop_ll_array = lib.drop_float_array\n",
    "drop_ll_array.argtypes = (LONLAT_FFIArray, LONLAT_FFIArray)\n",
    "drop_ll_array.restype = None"
   ]
  },
  {
   "cell_type": "code",
   "execution_count": 6,
   "metadata": {
    "collapsed": false
   },
   "outputs": [],
   "source": [
    "# def convertbng(lons, lats):\n",
    "#     \"\"\" Single-threaded wrapper \"\"\"\n",
    "#     return convert_vec(lons, lats)\n",
    "\n",
    "def convertbng_threaded(lons, lats):\n",
    "    \"\"\" Multi-threaded lon lat to BNG wrapper \"\"\"\n",
    "    return convert_bng(lons, lats)\n",
    "\n",
    "def convertlonlat_threaded(eastings, northings):\n",
    "    \"\"\" Multi-threaded BNG to lon, lat wrapper \"\"\"\n",
    "    return convert_lonlat(eastings, northings)"
   ]
  },
  {
   "cell_type": "markdown",
   "metadata": {},
   "source": [
    "## Simple test of average conversion speed, Python version"
   ]
  },
  {
   "cell_type": "markdown",
   "metadata": {},
   "source": [
    "## Test: 1MM random points within the UK"
   ]
  },
  {
   "cell_type": "code",
   "execution_count": 7,
   "metadata": {
    "collapsed": false
   },
   "outputs": [],
   "source": [
    "# UK bounding box\n",
    "N = 55.811741\n",
    "E = 1.768960\n",
    "S = 49.871159\n",
    "W = -6.379880\n",
    "\n",
    "bng = pyproj.Proj(init='epsg:27700')\n",
    "wgs84 = pyproj.Proj(init='epsg:4326')\n",
    "\n",
    "num_coords = 1000000\n",
    "lon_ls = list(np.random.uniform(W, E, [num_coords]))\n",
    "lat_ls = list(np.random.uniform(S, N, [num_coords]))"
   ]
  },
  {
   "cell_type": "markdown",
   "metadata": {},
   "source": [
    "### Pure Python"
   ]
  },
  {
   "cell_type": "code",
   "execution_count": 8,
   "metadata": {
    "collapsed": false
   },
   "outputs": [
    {
     "name": "stdout",
     "output_type": "stream",
     "text": [
      "1 loops, best of 10: 547 ms per loop\n"
     ]
    }
   ],
   "source": [
    "%%timeit -r50\n",
    "[bng(lat, lon) for lat, lon in zip(lat_ls, lon_ls)]"
   ]
  },
  {
   "cell_type": "markdown",
   "metadata": {},
   "source": [
    "### Pyproj"
   ]
  },
  {
   "cell_type": "code",
   "execution_count": 8,
   "metadata": {
    "collapsed": false
   },
   "outputs": [
    {
     "name": "stdout",
     "output_type": "stream",
     "text": [
      "10 loops, best of 30: 56.7 ms per loop\n"
     ]
    }
   ],
   "source": [
    "%%timeit -r50\n",
    "zip(*pyproj.transform(wgs84, bng, lon_ls, lat_ls))"
   ]
  },
  {
   "cell_type": "markdown",
   "metadata": {},
   "source": [
    "### Multithreaded Rust"
   ]
  },
  {
   "cell_type": "code",
   "execution_count": 11,
   "metadata": {
    "collapsed": false
   },
   "outputs": [
    {
     "name": "stdout",
     "output_type": "stream",
     "text": [
      "10 loops, best of 30: 73.9 ms per loop\n"
     ]
    }
   ],
   "source": [
    "%%timeit -r50\n",
    "zip(*convertbng_threaded(lon_ls, lat_ls))"
   ]
  },
  {
   "cell_type": "markdown",
   "metadata": {
    "collapsed": true
   },
   "source": [
    "## Pyproj is now only 1.2x (~20%) faster than Multithreaded Rust, which is 8–9x faster than pure Python"
   ]
  },
  {
   "cell_type": "markdown",
   "metadata": {},
   "source": [
    "## Ignore this for now"
   ]
  },
  {
   "cell_type": "code",
   "execution_count": 16,
   "metadata": {
    "collapsed": false
   },
   "outputs": [
    {
     "name": "stdout",
     "output_type": "stream",
     "text": [
      "1 loops, best of 3: 1.95 s per loop\n"
     ]
    }
   ],
   "source": [
    "%%timeit\n",
    "convertbng_threaded(\n",
    "    np.random.uniform(W, E, [1000000]),\n",
    "    np.random.uniform(S, N, [1000000])\n",
    ")"
   ]
  },
  {
   "cell_type": "code",
   "execution_count": 19,
   "metadata": {
    "collapsed": false
   },
   "outputs": [],
   "source": [
    "df = pd.DataFrame({\n",
    "        'lons': lon_ls,\n",
    "        'lats': lat_ls\n",
    "        })"
   ]
  },
  {
   "cell_type": "code",
   "execution_count": 20,
   "metadata": {
    "collapsed": false
   },
   "outputs": [
    {
     "name": "stdout",
     "output_type": "stream",
     "text": [
      "1 loops, best of 3: 2.51 s per loop\n"
     ]
    }
   ],
   "source": [
    "%%timeit\n",
    "df['eastings'], df['northings'] = convertbng_threaded(df.lons.values, df.lats.values))\n",
    "df.head()"
   ]
  },
  {
   "cell_type": "code",
   "execution_count": null,
   "metadata": {
    "collapsed": true
   },
   "outputs": [],
   "source": [
    "%%timeit\n",
    "df['eastings'], df['northings'] = df.apply(lambda x: zip(*convert_bng(df.lons, df.lats)), axis=1)"
   ]
  }
 ],
 "metadata": {
  "kernelspec": {
   "display_name": "Python 2",
   "language": "python",
   "name": "python2"
  },
  "language_info": {
   "codemirror_mode": {
    "name": "ipython",
    "version": 2
   },
   "file_extension": ".py",
   "mimetype": "text/x-python",
   "name": "python",
   "nbconvert_exporter": "python",
   "pygments_lexer": "ipython2",
   "version": "2.7.10"
  }
 },
 "nbformat": 4,
 "nbformat_minor": 0
}
