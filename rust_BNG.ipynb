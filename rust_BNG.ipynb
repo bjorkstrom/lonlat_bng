{
 "cells": [
  {
   "cell_type": "markdown",
   "metadata": {},
   "source": [
    "# The Helmert transform\n",
    "$\n",
    "\\begin{bmatrix}\n",
    "    x\\\\\n",
    "    y\\\\\n",
    "    z\\\\\n",
    "\\end{bmatrix}^B\n",
    "=\n",
    "\\begin{bmatrix}\n",
    "    t_X\\\\\n",
    "    t_Y\\\\\n",
    "    t_Z\\\\\n",
    "\\end{bmatrix}\n",
    "+\n",
    "\\begin{bmatrix}\n",
    "    1+s  & -r_Z & r_Y\\\\\n",
    "    r_Z  & 1+s  & -r_X\\\\\n",
    "    -r_Y & r_X  & 1+s\\\\\n",
    "\\end{bmatrix}\n",
    "\\cdot\n",
    "\\begin{bmatrix}\n",
    "    x\\\\\n",
    "    y\\\\\n",
    "    z\\\\\n",
    "\\end{bmatrix}^A\n",
    "$"
   ]
  },
  {
   "cell_type": "markdown",
   "metadata": {},
   "source": [
    "### Using an external Rust library to speed up lon, lat to [BNG](https://en.wikipedia.org/wiki/Ordnance_Survey_National_Grid) conversion"
   ]
  },
  {
   "cell_type": "code",
   "execution_count": 1,
   "metadata": {
    "collapsed": false
   },
   "outputs": [],
   "source": [
    "import numpy as np\n",
    "import pandas as pd\n",
    "import matplotlib as mpl\n",
    "mpl.use('TkAgg')\n",
    "import matplotlib.pyplot as plt\n",
    "import math\n",
    "from ctypes import cdll, c_float, c_double, Structure, ARRAY, POINTER, c_int32, c_uint32, c_size_t, c_void_p, cast\n",
    "from sys import platform\n",
    "from bng import bng\n",
    "import pyproj\n",
    "import ipdb\n",
    "from array import array\n",
    "%matplotlib inline"
   ]
  },
  {
   "cell_type": "code",
   "execution_count": 2,
   "metadata": {
    "collapsed": false
   },
   "outputs": [],
   "source": [
    "def helmert(x, y, z=0):\n",
    "    \"\"\" Example implementation of Helmert transform \"\"\"\n",
    "    tX = -446.448  \n",
    "    tY = 125.157  \n",
    "    tZ = -542.060  \n",
    "\n",
    "    rX = -0.1502  \n",
    "    rY = -0.2470  \n",
    "    rZ = -0.8421  \n",
    "\n",
    "    s = 20.4894 * math.pow(10, -6)\n",
    "    # For multiple x and y\n",
    "    # A_vector = np.matrix([[x, y, z], [x, y, z]]).T\n",
    "    A_vector = np.vstack(np.array([x, y, z]))\n",
    "    t_matrix = np.vstack(np.array([tX, tY, tZ]))\n",
    "    conversion = np.matrix([[1 + s, -rZ, rY], [rZ, 1 + s, -rX], [-rY, rX, 1 + s]])\n",
    "    return t_matrix + (conversion * A_vector)"
   ]
  },
  {
   "cell_type": "code",
   "execution_count": 3,
   "metadata": {
    "collapsed": false
   },
   "outputs": [
    {
     "data": {
      "text/plain": [
       "matrix([[-402.49686677],\n",
       "        [ 181.4468293 ],\n",
       "        [-550.75780346]])"
      ]
     },
     "execution_count": 3,
     "metadata": {},
     "output_type": "execute_result"
    }
   ],
   "source": [
    "helmert(-2.018304, 54.589097)"
   ]
  },
  {
   "cell_type": "markdown",
   "metadata": {},
   "source": [
    "### Setting up the Rust library. See [here](https://github.com/alexcrichton/rust-ffi-examples/tree/master/python-to-rust) for more"
   ]
  },
  {
   "cell_type": "markdown",
   "metadata": {},
   "source": [
    "Ensure you've built your Rust library using `cargo build --release`, or the next step will fail.\n",
    "\n",
    "The boilerplate below can easily be hidden in a wrapper function – it's just here to demonstrate how to call into a shared Rust lib using FFI."
   ]
  },
  {
   "cell_type": "code",
   "execution_count": 4,
   "metadata": {
    "collapsed": true
   },
   "outputs": [],
   "source": [
    "if platform == \"darwin\":\n",
    "    ext = \"dylib\"\n",
    "else:\n",
    "    ext = \"so\"\n",
    "    \n",
    "lib = cdll.LoadLibrary('target/release/liblonlat_bng.' + ext)"
   ]
  },
  {
   "cell_type": "markdown",
   "metadata": {},
   "source": [
    "Define the `ctypes` structures for lon, lat --> BNG conversion"
   ]
  },
  {
   "cell_type": "code",
   "execution_count": 5,
   "metadata": {
    "collapsed": false
   },
   "outputs": [],
   "source": [
    "class _FFIArray(Structure):\n",
    "    \"\"\" Convert sequence of floats to a C-compatible void array \"\"\"\n",
    "    _fields_ = [(\"data\", c_void_p),\n",
    "                (\"len\", c_size_t)]\n",
    "\n",
    "    @classmethod\n",
    "    def from_param(cls, seq):\n",
    "        \"\"\"  Allow implicit conversions from a sequence of 64-bit floats.\"\"\"\n",
    "        return seq if isinstance(seq, cls) else cls(seq)\n",
    "\n",
    "    def __init__(self, seq, data_type = c_double):\n",
    "        \"\"\"\n",
    "        Convert sequence of values into array, then ctypes Structure\n",
    "\n",
    "        Rather than checking types (bad), we just try to blam seq\n",
    "        into a ctypes object using from_buffer. If that doesn't work,\n",
    "        we try successively more conservative approaches:\n",
    "        numpy array -> array.array -> read-only buffer -> CPython iterable\n",
    "        \"\"\"\n",
    "        if isinstance(seq, float):\n",
    "            seq = array('d', [seq])\n",
    "        try:\n",
    "            len(seq)\n",
    "        except TypeError:\n",
    "             # we've got an iterator or a generator, so consume it\n",
    "            seq = array('d', seq)\n",
    "        array_type = data_type * len(seq)\n",
    "        try:\n",
    "            raw_seq = array_type.from_buffer(seq.astype(np.float64))\n",
    "        except (TypeError, AttributeError):\n",
    "            try:\n",
    "                raw_seq = array_type.from_buffer_copy(seq.astype(np.float64))\n",
    "            except (TypeError, AttributeError):\n",
    "                # it's a list or a tuple\n",
    "                raw_seq = array_type.from_buffer(array('d', seq))\n",
    "        self.data = cast(raw_seq, c_void_p)\n",
    "        self.len = len(seq)\n",
    "        \n",
    "\n",
    "class _Result_Tuple(Structure):\n",
    "    \"\"\" Container for returned FFI data \"\"\"\n",
    "    _fields_ = [(\"e\", _FFIArray),\n",
    "                (\"n\", _FFIArray)]\n",
    "\n",
    "\n",
    "def _void_array_to_list(restuple, _func, _args):\n",
    "    \"\"\" Convert the FFI result to Python data structures \"\"\"\n",
    "    eastings = POINTER(c_double * restuple.e.len).from_buffer_copy(restuple.e)[0]\n",
    "    northings = POINTER(c_double * restuple.n.len).from_buffer_copy(restuple.n)[0]\n",
    "    res_list = [list(eastings), list(northings)]\n",
    "    drop_array(restuple.e, restuple.n)\n",
    "    return res_list"
   ]
  },
  {
   "cell_type": "markdown",
   "metadata": {},
   "source": [
    "Define `ctypes` input and return parameters"
   ]
  },
  {
   "cell_type": "code",
   "execution_count": 6,
   "metadata": {
    "collapsed": false
   },
   "outputs": [],
   "source": [
    "# Multi-threaded FFI functions\n",
    "convert_bng = lib.convert_to_bng_threaded\n",
    "convert_bng.argtypes = (_FFIArray, _FFIArray)\n",
    "convert_bng.restype = _Result_Tuple\n",
    "convert_bng.errcheck = _void_array_to_list\n",
    "convert_bng.__doc__ = \"\"\"\n",
    "    Multi-threaded lon, lat --> BNG conversion\n",
    "    Returns a list of two lists containing Easting and Northing floats,\n",
    "    respectively\n",
    "    Uses the Helmert transform\n",
    "    \"\"\"\n",
    "\n",
    "convert_lonlat = lib.convert_to_lonlat_threaded\n",
    "convert_lonlat.argtypes = (_FFIArray, _FFIArray)\n",
    "convert_lonlat.restype = _Result_Tuple\n",
    "convert_lonlat.errcheck = _void_array_to_list\n",
    "convert_lonlat.__doc__ =  \"\"\"\n",
    "    Multi-threaded BNG --> lon, lat conversion\n",
    "    Returns a list of two lists containing Longitude and Latitude floats,\n",
    "    respectively\n",
    "    Uses the Helmert transform\n",
    "    \"\"\"\n",
    "\n",
    "convert_to_osgb36 = lib.convert_to_osgb36_threaded\n",
    "convert_to_osgb36.argtypes = (_FFIArray, _FFIArray)\n",
    "convert_to_osgb36.restype = _Result_Tuple\n",
    "convert_to_osgb36.errcheck = _void_array_to_list\n",
    "convert_to_osgb36.__doc__ = \"\"\"\n",
    "    Multi-threaded lon, lat --> OSGB36 conversion, using OSTN02 data\n",
    "    Returns a list of two lists containing Easting and Northing floats,\n",
    "    respectively\n",
    "    \"\"\"\n",
    "\n",
    "convert_osgb36_to_lonlat = lib.convert_osgb36_to_ll_threaded\n",
    "convert_osgb36_to_lonlat.argtypes = (_FFIArray, _FFIArray)\n",
    "convert_osgb36_to_lonlat.restype = _Result_Tuple\n",
    "convert_osgb36_to_lonlat.errcheck = _void_array_to_list\n",
    "convert_osgb36_to_lonlat.__doc__ = \"\"\"\n",
    "    Multi-threaded OSGB36 --> Lon, Lat conversion, using OSTN02 data\n",
    "    Returns a list of two lists containing Easting and Northing floats,\n",
    "    respectively\n",
    "    \"\"\"\n",
    "\n",
    "convert_etrs89_to_lonlat = lib.convert_etrs89_to_ll_threaded\n",
    "convert_etrs89_to_lonlat.argtypes = (_FFIArray, _FFIArray)\n",
    "convert_etrs89_to_lonlat.restype = _Result_Tuple\n",
    "convert_etrs89_to_lonlat.errcheck = _void_array_to_list\n",
    "convert_etrs89_to_lonlat.__doc__ = \"\"\"\n",
    "    Multi-threaded ETRS89 Eastings and Northings --> OSGB36 conversion, using OSTN02 data\n",
    "    Returns a list of two lists containing Easting and Northing floats,\n",
    "    respectively\n",
    "    \"\"\"\n",
    "\n",
    "convert_etrs89_to_osgb36 = lib.convert_etrs89_to_osgb36_threaded\n",
    "convert_etrs89_to_osgb36.argtypes = (_FFIArray, _FFIArray)\n",
    "convert_etrs89_to_osgb36.restype = _Result_Tuple\n",
    "convert_etrs89_to_osgb36.errcheck = _void_array_to_list\n",
    "convert_etrs89_to_osgb36.__doc__ = \"\"\"\n",
    "    Multi-threaded OSGB36 Eastings and Northings --> ETRS89 Eastings and Northings conversion,\n",
    "    using OSTN02 data\n",
    "    Returns a list of two lists containing Easting and Northing floats,\n",
    "    respectively\n",
    "    \"\"\"\n",
    "\n",
    "convert_osgb36_to_etrs89 = lib.convert_osgb36_to_etrs89_threaded\n",
    "convert_osgb36_to_etrs89.argtypes = (_FFIArray, _FFIArray)\n",
    "convert_osgb36_to_etrs89.restype = _Result_Tuple\n",
    "convert_osgb36_to_etrs89.errcheck = _void_array_to_list\n",
    "convert_osgb36_to_etrs89.__doc__ = \"\"\"\n",
    "    Multi-threaded ETRS89 Eastings and Northings --> Lon, Lat conversion,\n",
    "    Returns a list of two lists containing Longitude and Latitude floats,\n",
    "    respectively\n",
    "    \"\"\"\n",
    "\n",
    "convert_epsg3857_to_wgs84 = lib.convert_epsg3857_to_wgs84_threaded\n",
    "convert_epsg3857_to_wgs84.argtypes = (_FFIArray, _FFIArray)\n",
    "convert_epsg3857_to_wgs84.restype = _Result_Tuple\n",
    "convert_epsg3857_to_wgs84.errcheck = _void_array_to_list\n",
    "convert_epsg3857_to_wgs84.__doc__ = \"\"\"\n",
    "    Convert Google Web Mercator (EPSG3857) coordinates to WGS84\n",
    "    Latitude and Longitude\n",
    "    Returns a list of two lists containing latitudes and longitudes,\n",
    "    respectively\n",
    "    \"\"\"\n",
    "\n",
    "# Free FFI-allocated memory\n",
    "drop_array = lib.drop_float_array\n",
    "drop_array.argtypes = (_FFIArray, _FFIArray)\n",
    "drop_array.restype = None"
   ]
  },
  {
   "cell_type": "markdown",
   "metadata": {},
   "source": [
    "## Simple test of average conversion speed, Python version"
   ]
  },
  {
   "cell_type": "markdown",
   "metadata": {},
   "source": [
    "## Test: 1MM random points within the UK"
   ]
  },
  {
   "cell_type": "code",
   "execution_count": 10,
   "metadata": {
    "collapsed": false
   },
   "outputs": [],
   "source": [
    "# UK bounding box\n",
    "N = 55.811741\n",
    "E = 1.768960\n",
    "S = 49.871159\n",
    "W = -6.379880\n",
    "\n",
    "bng = pyproj.Proj(init='epsg:27700')\n",
    "wgs84 = pyproj.Proj(init='epsg:4326')\n",
    "\n",
    "num_coords = 1000000\n",
    "lon_ls = list(np.random.uniform(W, E, [num_coords]))\n",
    "lat_ls = list(np.random.uniform(S, N, [num_coords]))"
   ]
  },
  {
   "cell_type": "markdown",
   "metadata": {},
   "source": [
    "### Pure Python"
   ]
  },
  {
   "cell_type": "code",
   "execution_count": null,
   "metadata": {
    "collapsed": false
   },
   "outputs": [],
   "source": [
    "%%timeit -r50\n",
    "[bng(lat, lon) for lat, lon in zip(lat_ls, lon_ls)]"
   ]
  },
  {
   "cell_type": "markdown",
   "metadata": {},
   "source": [
    "### Pyproj"
   ]
  },
  {
   "cell_type": "code",
   "execution_count": 8,
   "metadata": {
    "collapsed": false
   },
   "outputs": [
    {
     "name": "stdout",
     "output_type": "stream",
     "text": [
      "1 loop, best of 50: 400 ms per loop\n"
     ]
    }
   ],
   "source": [
    "%%timeit -r50\n",
    "pyproj.transform(wgs84, bng, lon_ls, lat_ls)"
   ]
  },
  {
   "cell_type": "markdown",
   "metadata": {},
   "source": [
    "### Multithreaded Rust"
   ]
  },
  {
   "cell_type": "code",
   "execution_count": 9,
   "metadata": {
    "collapsed": false
   },
   "outputs": [
    {
     "name": "stdout",
     "output_type": "stream",
     "text": [
      "1 loop, best of 50: 665 ms per loop\n"
     ]
    }
   ],
   "source": [
    "%%timeit -r50\n",
    "convert_bng(lon_ls, lat_ls)"
   ]
  },
  {
   "cell_type": "markdown",
   "metadata": {
    "collapsed": true
   },
   "source": [
    "## Pyproj is now only 1.15x (~15%) faster than Multithreaded Rust, which is 9x faster than pure Python"
   ]
  },
  {
   "cell_type": "markdown",
   "metadata": {},
   "source": [
    "# Benchmark using cProfile"
   ]
  },
  {
   "cell_type": "code",
   "execution_count": 1,
   "metadata": {
    "collapsed": false
   },
   "outputs": [],
   "source": [
    "import cProfile\n",
    "import pstats\n",
    "import profile"
   ]
  },
  {
   "cell_type": "code",
   "execution_count": 4,
   "metadata": {
    "collapsed": false
   },
   "outputs": [],
   "source": [
    "# calibrate\n",
    "pr = profile.Profile()\n",
    "calibration = np.mean([pr.calibrate(100000) for x in xrange(5)])\n",
    "# add the bias\n",
    "profile.Profile.bias = calibration"
   ]
  },
  {
   "cell_type": "code",
   "execution_count": 12,
   "metadata": {
    "collapsed": false
   },
   "outputs": [
    {
     "name": "stdout",
     "output_type": "stream",
     "text": [
      "Wed Feb 24 17:23:40 2016    ffi_benchmarks/output_stats_rust\n",
      "\n",
      "         1388 function calls in 33.634 seconds\n",
      "\n",
      "   Ordered by: cumulative time\n",
      "   List reduced from 30 to 5 due to restriction <5>\n",
      "\n",
      "   ncalls  tottime  percall  cumtime  percall filename:lineno(function)\n",
      "        1   15.040   15.040   33.634   33.634 ffi_benchmarks/cprofile_rust.py:1(<module>)\n",
      "       50   13.261    0.265   13.262    0.265 ffi_benchmarks/cprofile_rust.py:59(_void_array_to_list)\n",
      "      200    0.001    0.000    5.304    0.027 ffi_benchmarks/cprofile_rust.py:19(from_param)\n",
      "      100    5.300    0.053    5.302    0.053 ffi_benchmarks/cprofile_rust.py:24(__init__)\n",
      "        2    0.028    0.014    0.028    0.014 {method 'uniform' of 'mtrand.RandomState' objects}\n",
      "\n",
      "\n"
     ]
    },
    {
     "data": {
      "text/plain": [
       "<pstats.Stats instance at 0x11984aef0>"
      ]
     },
     "execution_count": 12,
     "metadata": {},
     "output_type": "execute_result"
    }
   ],
   "source": [
    "cProfile.run(open('benches/cprofile_rust.py', 'rb'), 'benches/output_stats_rust')\n",
    "p = pstats.Stats('benches/output_stats_rust')\n",
    "p.sort_stats('cumulative').print_stats(5)"
   ]
  },
  {
   "cell_type": "code",
   "execution_count": 9,
   "metadata": {
    "collapsed": false
   },
   "outputs": [
    {
     "name": "stdout",
     "output_type": "stream",
     "text": [
      "Wed Feb 24 16:09:30 2016    ffi_benchmarks/output_stats_pyproj\n",
      "\n",
      "         822 function calls in 20.225 seconds\n",
      "\n",
      "   Ordered by: cumulative time\n",
      "   List reduced from 20 to 10 due to restriction <10>\n",
      "\n",
      "   ncalls  tottime  percall  cumtime  percall filename:lineno(function)\n",
      "        1    0.725    0.725   20.225   20.225 ffi_benchmarks/cprofile_pyproj.py:1(<module>)\n",
      "       50    0.001    0.000   19.473    0.389 /Users/sth/dev/lonlat_bng/venv/lib/python2.7/site-packages/pyproj/__init__.py:418(transform)\n",
      "       50   13.097    0.262   13.097    0.262 {_proj._transform}\n",
      "      100    5.339    0.053    5.339    0.053 /Users/sth/dev/lonlat_bng/venv/lib/python2.7/site-packages/pyproj/__init__.py:521(_copytobuffer)\n",
      "      100    0.000    0.000    1.035    0.010 /Users/sth/dev/lonlat_bng/venv/lib/python2.7/site-packages/pyproj/__init__.py:577(_convertback)\n",
      "      100    1.035    0.010    1.035    0.010 {method 'tolist' of 'array.array' objects}\n",
      "        2    0.027    0.014    0.027    0.014 {method 'uniform' of 'mtrand.RandomState' objects}\n",
      "      200    0.001    0.000    0.001    0.000 {hasattr}\n",
      "      100    0.000    0.000    0.000    0.000 /Users/sth/dev/lonlat_bng/venv/lib/python2.7/site-packages/pyproj/__init__.py:410(is_latlong)\n",
      "      100    0.000    0.000    0.000    0.000 {isinstance}\n",
      "\n",
      "\n"
     ]
    },
    {
     "data": {
      "text/plain": [
       "<pstats.Stats instance at 0x11785f440>"
      ]
     },
     "execution_count": 9,
     "metadata": {},
     "output_type": "execute_result"
    }
   ],
   "source": [
    "cProfile.run(open('benches/cprofile_pyproj.py', 'rb'), 'benches/output_stats_pyproj')\n",
    "p = pstats.Stats('benches/output_stats_pyproj')\n",
    "p.sort_stats('cumulative').print_stats(10)"
   ]
  },
  {
   "cell_type": "code",
   "execution_count": 4,
   "metadata": {
    "collapsed": true
   },
   "outputs": [],
   "source": [
    "# make graph text look good - only run this if you know what you're doing\n",
    "from matplotlib import rc\n",
    "rc('font', **{'family':'sans-serif',\n",
    "    'sans-serif':['Helvetica'],\n",
    "    'monospace': ['Inconsolata'],\n",
    "    'serif': ['Helvetica']})\n",
    "rc('text', **{'usetex': True})\n",
    "rc('text', **{'latex.preamble': '\\usepackage{sfmath}'})"
   ]
  },
  {
   "cell_type": "code",
   "execution_count": 18,
   "metadata": {
    "collapsed": false
   },
   "outputs": [
    {
     "data": {
      "text/html": [
       "<div>\n",
       "<table border=\"1\" class=\"dataframe\">\n",
       "  <thead>\n",
       "    <tr style=\"text-align: right;\">\n",
       "      <th></th>\n",
       "      <th>time</th>\n",
       "      <th>error</th>\n",
       "      <th>ivariable</th>\n",
       "      <th>num_points</th>\n",
       "      <th>cores</th>\n",
       "      <th>method</th>\n",
       "    </tr>\n",
       "  </thead>\n",
       "  <tbody>\n",
       "    <tr>\n",
       "      <th>0</th>\n",
       "      <td>36382498</td>\n",
       "      <td>22667649</td>\n",
       "      <td>1</td>\n",
       "      <td>100000</td>\n",
       "      <td>2</td>\n",
       "      <td>crossbeam</td>\n",
       "    </tr>\n",
       "    <tr>\n",
       "      <th>1</th>\n",
       "      <td>16095737</td>\n",
       "      <td>10256972</td>\n",
       "      <td>2</td>\n",
       "      <td>100000</td>\n",
       "      <td>2</td>\n",
       "      <td>crossbeam</td>\n",
       "    </tr>\n",
       "    <tr>\n",
       "      <th>2</th>\n",
       "      <td>16219817</td>\n",
       "      <td>10079940</td>\n",
       "      <td>4</td>\n",
       "      <td>100000</td>\n",
       "      <td>2</td>\n",
       "      <td>crossbeam</td>\n",
       "    </tr>\n",
       "    <tr>\n",
       "      <th>3</th>\n",
       "      <td>16454841</td>\n",
       "      <td>10236871</td>\n",
       "      <td>8</td>\n",
       "      <td>100000</td>\n",
       "      <td>2</td>\n",
       "      <td>crossbeam</td>\n",
       "    </tr>\n",
       "    <tr>\n",
       "      <th>4</th>\n",
       "      <td>16755991</td>\n",
       "      <td>10263327</td>\n",
       "      <td>16</td>\n",
       "      <td>100000</td>\n",
       "      <td>2</td>\n",
       "      <td>crossbeam</td>\n",
       "    </tr>\n",
       "    <tr>\n",
       "      <th>5</th>\n",
       "      <td>17856895</td>\n",
       "      <td>10031590</td>\n",
       "      <td>32</td>\n",
       "      <td>100000</td>\n",
       "      <td>2</td>\n",
       "      <td>crossbeam</td>\n",
       "    </tr>\n",
       "    <tr>\n",
       "      <th>6</th>\n",
       "      <td>16207584</td>\n",
       "      <td>10847012</td>\n",
       "      <td>1</td>\n",
       "      <td>100000</td>\n",
       "      <td>2</td>\n",
       "      <td>rayon</td>\n",
       "    </tr>\n",
       "    <tr>\n",
       "      <th>7</th>\n",
       "      <td>16657233</td>\n",
       "      <td>9949211</td>\n",
       "      <td>2</td>\n",
       "      <td>100000</td>\n",
       "      <td>2</td>\n",
       "      <td>rayon</td>\n",
       "    </tr>\n",
       "    <tr>\n",
       "      <th>8</th>\n",
       "      <td>16386362</td>\n",
       "      <td>11144556</td>\n",
       "      <td>4</td>\n",
       "      <td>100000</td>\n",
       "      <td>2</td>\n",
       "      <td>rayon</td>\n",
       "    </tr>\n",
       "    <tr>\n",
       "      <th>9</th>\n",
       "      <td>16000969</td>\n",
       "      <td>10038207</td>\n",
       "      <td>100</td>\n",
       "      <td>100000</td>\n",
       "      <td>2</td>\n",
       "      <td>rayon</td>\n",
       "    </tr>\n",
       "    <tr>\n",
       "      <th>10</th>\n",
       "      <td>16379867</td>\n",
       "      <td>10461111</td>\n",
       "      <td>200</td>\n",
       "      <td>100000</td>\n",
       "      <td>2</td>\n",
       "      <td>rayon</td>\n",
       "    </tr>\n",
       "    <tr>\n",
       "      <th>11</th>\n",
       "      <td>16720910</td>\n",
       "      <td>10748740</td>\n",
       "      <td>400</td>\n",
       "      <td>100000</td>\n",
       "      <td>2</td>\n",
       "      <td>rayon</td>\n",
       "    </tr>\n",
       "    <tr>\n",
       "      <th>12</th>\n",
       "      <td>22724575</td>\n",
       "      <td>13845454</td>\n",
       "      <td>1</td>\n",
       "      <td>100000</td>\n",
       "      <td>8</td>\n",
       "      <td>crossbeam</td>\n",
       "    </tr>\n",
       "    <tr>\n",
       "      <th>13</th>\n",
       "      <td>11520465</td>\n",
       "      <td>6775661</td>\n",
       "      <td>2</td>\n",
       "      <td>100000</td>\n",
       "      <td>8</td>\n",
       "      <td>crossbeam</td>\n",
       "    </tr>\n",
       "    <tr>\n",
       "      <th>14</th>\n",
       "      <td>3229282</td>\n",
       "      <td>1875544</td>\n",
       "      <td>4</td>\n",
       "      <td>100000</td>\n",
       "      <td>8</td>\n",
       "      <td>crossbeam</td>\n",
       "    </tr>\n",
       "    <tr>\n",
       "      <th>15</th>\n",
       "      <td>2965449</td>\n",
       "      <td>1772994</td>\n",
       "      <td>8</td>\n",
       "      <td>100000</td>\n",
       "      <td>8</td>\n",
       "      <td>crossbeam</td>\n",
       "    </tr>\n",
       "    <tr>\n",
       "      <th>16</th>\n",
       "      <td>2973210</td>\n",
       "      <td>1911177</td>\n",
       "      <td>16</td>\n",
       "      <td>100000</td>\n",
       "      <td>8</td>\n",
       "      <td>crossbeam</td>\n",
       "    </tr>\n",
       "    <tr>\n",
       "      <th>17</th>\n",
       "      <td>3388571</td>\n",
       "      <td>1828989</td>\n",
       "      <td>32</td>\n",
       "      <td>100000</td>\n",
       "      <td>8</td>\n",
       "      <td>crossbeam</td>\n",
       "    </tr>\n",
       "  </tbody>\n",
       "</table>\n",
       "</div>"
      ],
      "text/plain": [
       "        time     error  ivariable  num_points  cores     method\n",
       "0   36382498  22667649          1      100000      2  crossbeam\n",
       "1   16095737  10256972          2      100000      2  crossbeam\n",
       "2   16219817  10079940          4      100000      2  crossbeam\n",
       "3   16454841  10236871          8      100000      2  crossbeam\n",
       "4   16755991  10263327         16      100000      2  crossbeam\n",
       "5   17856895  10031590         32      100000      2  crossbeam\n",
       "6   16207584  10847012          1      100000      2      rayon\n",
       "7   16657233   9949211          2      100000      2      rayon\n",
       "8   16386362  11144556          4      100000      2      rayon\n",
       "9   16000969  10038207        100      100000      2      rayon\n",
       "10  16379867  10461111        200      100000      2      rayon\n",
       "11  16720910  10748740        400      100000      2      rayon\n",
       "12  22724575  13845454          1      100000      8  crossbeam\n",
       "13  11520465   6775661          2      100000      8  crossbeam\n",
       "14   3229282   1875544          4      100000      8  crossbeam\n",
       "15   2965449   1772994          8      100000      8  crossbeam\n",
       "16   2973210   1911177         16      100000      8  crossbeam\n",
       "17   3388571   1828989         32      100000      8  crossbeam"
      ]
     },
     "execution_count": 18,
     "metadata": {},
     "output_type": "execute_result"
    }
   ],
   "source": [
    "df = pd.read_csv(\"benches/benchmarks.csv\",\n",
    "    dtype={\n",
    "        'crossbeam': np.float64,\n",
    "        'crossbeam_error': np.float64,\n",
    "        'threads': np.float64,\n",
    "        'rayon': np.float64,\n",
    "        'rayon_error': np.float64,\n",
    "        'weight': np.float64,\n",
    "        'num_points': np.float64,\n",
    "        'cores': np.float64,\n",
    "    }    \n",
    ")\n",
    "\n",
    "df.head(20)"
   ]
  },
  {
   "cell_type": "markdown",
   "metadata": {},
   "source": [
    "# Comparing and Optimising Crossbeam and Rayon"
   ]
  },
  {
   "cell_type": "code",
   "execution_count": 42,
   "metadata": {
    "collapsed": false
   },
   "outputs": [
    {
     "data": {
      "text/plain": [
       "<matplotlib.figure.Figure at 0x10b09dc10>"
      ]
     },
     "metadata": {},
     "output_type": "display_data"
    },
    {
     "data": {
      "image/png": "[encoded data removed]",
      "text/plain": [
       "<matplotlib.figure.Figure at 0x10a5c5650>"
      ]
     },
     "metadata": {},
     "output_type": "display_data"
    }
   ],
   "source": [
    "plt.clf()\n",
    "fig = plt.figure(figsize=(8, 6))\n",
    "\n",
    "# Crossbeam\n",
    "# filter by cores and method\n",
    "df_cb = df[(df.cores == 2) & (df.method == \"crossbeam\")]\n",
    "ax1 = fig.add_subplot(121, axisbg='#d3d3d3')\n",
    "threads = plt.scatter(df_cb['ivariable'], df_cb['time'],\n",
    "    color='#CC00CC',\n",
    "    edgecolor='#333333',\n",
    "    marker='o',\n",
    "    lw=1,\n",
    "    s=80,\n",
    "    alpha=1.0,\n",
    "    zorder=2,\n",
    ")\n",
    "ax1.set_ylim(0, 40000000)\n",
    "plt.errorbar(df_cb['ivariable'], df_cb['time'], yerr=df_cb['error'],\n",
    "    color='#ff96ca',\n",
    "    linestyle=\"None\",\n",
    "    lw=2.,\n",
    "    alpha=0.75,\n",
    "    zorder=1     \n",
    ")\n",
    "# filter by cores and method (8 cores)\n",
    "df_cb_ = df[(df.cores == 8) & (df.method == \"crossbeam\")]\n",
    "threads_ = plt.scatter(df_cb_['ivariable'], df_cb_['time'],\n",
    "    color='#008080',\n",
    "    edgecolor='#333333',\n",
    "    marker='o',\n",
    "    lw=1,\n",
    "    s=80,\n",
    "    alpha=1.0,\n",
    "    zorder=2,\n",
    ")\n",
    "plt.errorbar(df_cb_['ivariable'].values, df_cb_['time'].values, yerr=df_cb_['error'].values,\n",
    "    linestyle=\"None\",\n",
    "    color='#cc8400',\n",
    "    lw=2.,\n",
    "    alpha=0.75,\n",
    "    zorder=1     \n",
    ")\n",
    "\n",
    "# Legend\n",
    "leg = plt.legend(\n",
    "    (threads, threads_),\n",
    "    ('2 cores, Core i5', '8 cores, 3.4GHz Core i7'),\n",
    "    loc='upper right',\n",
    "    scatterpoints=1,\n",
    "    fontsize=9)\n",
    "leg.get_frame().set_alpha(0.5)\n",
    "\n",
    "plt.ylabel(\"Time (ns)\")\n",
    "plt.xlabel(\"Num. threads\")\n",
    "plt.axhline(df_cb.time.min(), color='red')\n",
    "ax1.spines['top'].set_visible(False)\n",
    "ax1.spines['right'].set_visible(False)\n",
    "\n",
    "# x ticks\n",
    "plt.tick_params(\n",
    "    axis='x',\n",
    "    which='both',\n",
    "    top='off',\n",
    "    bottom='on',\n",
    "    labelbottom='off')\n",
    "\n",
    "# y ticks\n",
    "plt.tick_params(\n",
    "    axis='y',\n",
    "    which='both',\n",
    "    left='on',\n",
    "    right='off',\n",
    "    labelbottom='on')\n",
    "\n",
    "\n",
    "plt.title(\"Crossbeam, 100k Points\", fontsize=12)\n",
    "plt.tight_layout()\n",
    "\n",
    "# Rayon\n",
    "# filter by cores and method\n",
    "df_ry = df[(df.cores == 2) & (df.method == \"rayon\")]\n",
    "ax2 = fig.add_subplot(122, axisbg='#d3d3d3')\n",
    "rayon = plt.scatter(df_ry['ivariable'], df_ry['time'],\n",
    "    color='#CC00CC',\n",
    "    edgecolor='#000000',\n",
    "    marker='o',\n",
    "    lw=1,\n",
    "    s=60,\n",
    "    alpha=1.0,\n",
    "    zorder=2,\n",
    ")\n",
    "ax2.set_ylim(0, 40000000)\n",
    "# pandas bug, so use .values\n",
    "plt.errorbar(df_ry['ivariable'].values, df_ry['time'].values, yerr=df_ry['error'].values,\n",
    "    linestyle=\"None\",\n",
    "    color='#ff96ca',\n",
    "    lw=2.,\n",
    "    alpha=0.75,\n",
    "    zorder=1 \n",
    ")\n",
    "plt.xlabel(\"Weight\")\n",
    "ax2.set_yticklabels([])\n",
    "plt.axhline(df_ry.time.min(), color='red')\n",
    "ax2.spines['top'].set_visible(False)\n",
    "ax2.spines['right'].set_visible(True)\n",
    "ax2.spines['left'].set_visible(False)\n",
    "plt.title(\"Rayon, 100k Points\", fontsize=12)\n",
    "\n",
    "leg = plt.legend(\n",
    "    (rayon,),\n",
    "    ('2 cores, Core i5',),\n",
    "    loc='upper right',\n",
    "    scatterpoints=1,\n",
    "    fontsize=9)\n",
    "leg.get_frame().set_alpha(0.5)\n",
    "\n",
    "# x ticks\n",
    "# x ticks\n",
    "plt.tick_params(\n",
    "    axis='x',\n",
    "    which='both',\n",
    "    top='off',\n",
    "    bottom='on',\n",
    "    labelbottom='on')\n",
    "\n",
    "#  y ticks\n",
    "plt.tick_params(\n",
    "    axis='y',\n",
    "    which='both',\n",
    "    left='off',\n",
    "    right='on',\n",
    "    labelbottom='off')\n",
    "\n",
    "# output\n",
    "plt.tight_layout()\n",
    "plt.savefig(\n",
    "    'crossbeam_v_rayon.png',\n",
    "    format=\"png\", bbox_inches='tight',\n",
    "    alpha=True, dpi=100)\n",
    "plt.show()"
   ]
  },
  {
   "cell_type": "code",
   "execution_count": null,
   "metadata": {
    "collapsed": true
   },
   "outputs": [],
   "source": []
  }
 ],
 "metadata": {
  "kernelspec": {
   "display_name": "Python 2",
   "language": "python",
   "name": "python2"
  },
  "language_info": {
   "codemirror_mode": {
    "name": "ipython",
    "version": 2
   },
   "file_extension": ".py",
   "mimetype": "text/x-python",
   "name": "python",
   "nbconvert_exporter": "python",
   "pygments_lexer": "ipython2",
   "version": "2.7.10"
  }
 },
 "nbformat": 4,
 "nbformat_minor": 0
}
